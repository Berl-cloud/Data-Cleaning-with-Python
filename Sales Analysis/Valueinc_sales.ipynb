{
 "cells": [
  {
   "cell_type": "markdown",
   "id": "1e594e25",
   "metadata": {},
   "source": [
    "![Value Inc](https://finch-groundhog-9245.squarespace.com/s/Value-Inc-Logo.png \"Value Inc\")"
   ]
  },
  {
   "cell_type": "markdown",
   "id": "ba967512",
   "metadata": {},
   "source": [
    "> **Project Title:** Sales Analysis<br>\n",
    "> **Project Owner:** Berlinda Anaman <br>\n",
    "> **Email:** Berlana.d@gmail.com <br>\n",
    "> **Github Profile:** https://github.com/berl-cloud<br>\n",
    "> **LinkedIn Profile:** http://www.linkedin.com/in/berlinda-anaman<br>\n",
    "> **Tableau Profile:** https://public.tableau.com/app/profile/berlinda.anaman"
   ]
  },
  {
   "cell_type": "markdown",
   "id": "c4888e45",
   "metadata": {},
   "source": [
    "## Table of Contents<a id='mu'></a>\n",
    "\n",
    "* [Business Problem Understanding](#bpu)\n",
    "    * [Problem Statement](#ps)\n",
    "    * [Project Goal](#pg)\n",
    "    * [Information Needed](#in)\n",
    "    * [Methodology](#my)\n",
    "* [Data Preparation](#dp)\n",
    "    * [Data Quality Assessment](#dqa)\n",
    "       * [Season Data](#sd)\n",
    "       * [Transaction Data](#td)\n",
    "    * [Data Cleaning and Preprocessing](#dcp)\n",
    "* [Data Visualisation](#dv)\n",
    "* [References](#r)"
   ]
  },
  {
   "cell_type": "markdown",
   "id": "0f20081a",
   "metadata": {},
   "source": [
    "## 1. Business Problem Understanding<a id='bpu'></a>\n",
    "\n",
    "[Move Up](#mu)"
   ]
  },
  {
   "cell_type": "markdown",
   "id": "b25071a7",
   "metadata": {},
   "source": [
    "<p style=\"text-align:justify;\">The first step in approaching a data science problem is problem understanding. This step is very important since it allows us to know the kind of decisions we want to make, the information or data that will be needed to inform those decisions and finally, the kind of analysis that will be used to arrive at those decisions. In a nutshell, developing a mental model of the problem allows us to properly structure potentially relevant information needed to solve the problem.</p>"
   ]
  },
  {
   "cell_type": "markdown",
   "id": "72a7a3c4",
   "metadata": {},
   "source": [
    " "
   ]
  },
  {
   "cell_type": "markdown",
   "id": "33927774",
   "metadata": {},
   "source": [
    "### 1.1 Problem Statement <a id='ps'></a>\n",
    "\n",
    "The Sales Manager at Value Inc lacks sales reporting and requires a comprehensive understanding of the current sales. They are unaware of monthly costs, monthly sales and profits. The project aims to address these challenges by analyzing the provided sales data and presenting the information through a dashboard."
   ]
  },
  {
   "cell_type": "markdown",
   "id": "361d196d",
   "metadata": {},
   "source": [
    " "
   ]
  },
  {
   "cell_type": "markdown",
   "id": "e027cea1",
   "metadata": {},
   "source": [
    "### 1.2 Project Goal <a id='pg'></a>\n",
    "\n",
    "In this project, we seek to achieve 2 main goals and they are;\n",
    "\n",
    "* Analyze dataset and draw unique insights for sales reporting.\n",
    "* Build a dashboard to track monthly cost, profit and top selling products."
   ]
  },
  {
   "cell_type": "markdown",
   "id": "238ad58c",
   "metadata": {},
   "source": [
    " "
   ]
  },
  {
   "cell_type": "markdown",
   "id": "0a6d796b",
   "metadata": {},
   "source": [
    "### 1.3 Information Needed <a id='in'></a>\n",
    "\n",
    "In order to build a sales analytics dashboard, we would need to acquire the data needed to perform the analysis. This will enable us draw unique insights and perform calculations that may be useful for the dashboard.\n",
    "\n",
    "The data needed is: \n",
    "\n",
    "**`Sales transactional data`** - which should indicate every transaction performed on Items bought and  sold."
   ]
  },
  {
   "cell_type": "markdown",
   "id": "0981f66f",
   "metadata": {},
   "source": [
    " "
   ]
  },
  {
   "cell_type": "markdown",
   "id": "03c30fbf",
   "metadata": {},
   "source": [
    " "
   ]
  },
  {
   "cell_type": "markdown",
   "id": "6bfae40c",
   "metadata": {},
   "source": [
    "### 1.4 Methodology <a id='my'></a>\n",
    "\n",
    "<p style=\"text-align:justify;\">The methodology that will be used for our project will largely depend on the goals we set out to achieve. The methodlogy framework below gives us a comprehensive guide on the methodology apparoach that will help us achieve our goals.</p>\n",
    "<br>\n",
    "<p style=\"text-align:center;font-weight:bold;font-size:20px\"> Methodology Framework</p>\n",
    "<br>\n",
    "<img src='https://artofdatablog.files.wordpress.com/2017/10/methodology-map.jpg' style=\"float:center;width:700px;\">\n",
    "\n",
    "Once we have the data, we would need to clean it and perform the analysis to generate insights."
   ]
  },
  {
   "cell_type": "markdown",
   "id": "1b29b2b8",
   "metadata": {},
   "source": [
    " "
   ]
  },
  {
   "cell_type": "markdown",
   "id": "e9bb62e8",
   "metadata": {},
   "source": [
    "  "
   ]
  },
  {
   "cell_type": "markdown",
   "id": "237a01f1",
   "metadata": {},
   "source": [
    "## 2. Data Preparation <a id='dp'></a>\n",
    "\n",
    "[Move Up](#mu)\n",
    "\n",
    "An understanding of the data coupled with problem understanding will help us in cleaning and preparing our data for analysis. It is usually rare to acquire a ready-to-use data for any analysis without some level of preparation. To prepare our data, we normally assess the quality of the data, cleanse, format, blend and sample the data since we may encounter various issues with columns in our data. These issues may include:\n",
    "\n",
    "* **`Missing values:`** meaning column values are incomplete\n",
    "* **`Incorrect data:`** meaning you see values not expected for the column name\n",
    "* **`Inconsistent values:`** meaning some values may fall outside the expected range\n",
    "* **`Duplicate values:`** meaning whether or not there are duplicate values\n",
    "* **`Inconsistent data type:`** meaning values entered in the columns may not be consistent with the column names\n",
    "\n",
    "To properly prepare our data for analysis, we will perform two important tasks which are;\n",
    "\n",
    "* Part I: Data Quality Assessment\n",
    "* Part II: Data Cleaning and Preprocessing "
   ]
  },
  {
   "cell_type": "markdown",
   "id": "6db73d1c",
   "metadata": {},
   "source": [
    " "
   ]
  },
  {
   "cell_type": "markdown",
   "id": "9c62f19a",
   "metadata": {},
   "source": [
    " "
   ]
  },
  {
   "cell_type": "markdown",
   "id": "83900257",
   "metadata": {},
   "source": [
    "### 2.1 Data Quality Assessment <a id='dqa'></a>\n",
    "\n",
    "<p style=\"text-align:justify;\">The first task that we will perform under the data preparation step is initial assessment of the quality of data which will easily allow us to properly clean our data. We will use this section to write any code necesary for inspecting the dataset. Once completed, we will leave our report in the Data Quality Report Document.\n",
    "\n",
    "At the end of our inspection, we will provide a summary of all of our findings.</p>"
   ]
  },
  {
   "cell_type": "code",
   "execution_count": 1,
   "id": "8bba94b8",
   "metadata": {},
   "outputs": [],
   "source": [
    "# import libraries needed\n",
    "\n",
    "import pandas as pd\n",
    "import numpy as np\n",
    "import matplotlib.pyplot as plt\n",
    "import warnings\n",
    "\n",
    "\n",
    "warnings.filterwarnings('ignore')\n",
    "\n"
   ]
  },
  {
   "cell_type": "markdown",
   "id": "d84cd5c9",
   "metadata": {},
   "source": [
    " "
   ]
  },
  {
   "cell_type": "code",
   "execution_count": 2,
   "id": "0cbda77e",
   "metadata": {},
   "outputs": [],
   "source": [
    "# load data using pandas\n",
    "\n",
    "data = pd.read_csv(\"../Data/transaction.csv\", sep=\";\")\n",
    "data1 = pd.read_csv(\"../Data/value_inc_seasons.csv\", sep=\";\")"
   ]
  },
  {
   "cell_type": "markdown",
   "id": "c7a5df14",
   "metadata": {},
   "source": [
    " "
   ]
  },
  {
   "cell_type": "markdown",
   "id": "cfd3a2ee",
   "metadata": {},
   "source": [
    "#### 2.1.1 Inspecting Seasons Data <a id='sd'></a>"
   ]
  },
  {
   "cell_type": "markdown",
   "id": "d3068953",
   "metadata": {},
   "source": [
    "In this step we will inspect the seasons data (`data1`) to get an overview of what the data entails and also assess the quality of the data and make all the possible recommendation for cleaning this data."
   ]
  },
  {
   "cell_type": "code",
   "execution_count": 3,
   "id": "c3cb668c",
   "metadata": {},
   "outputs": [
    {
     "data": {
      "text/html": [
       "<div>\n",
       "<style scoped>\n",
       "    .dataframe tbody tr th:only-of-type {\n",
       "        vertical-align: middle;\n",
       "    }\n",
       "\n",
       "    .dataframe tbody tr th {\n",
       "        vertical-align: top;\n",
       "    }\n",
       "\n",
       "    .dataframe thead th {\n",
       "        text-align: right;\n",
       "    }\n",
       "</style>\n",
       "<table border=\"1\" class=\"dataframe\">\n",
       "  <thead>\n",
       "    <tr style=\"text-align: right;\">\n",
       "      <th></th>\n",
       "      <th>Month</th>\n",
       "      <th>Season</th>\n",
       "    </tr>\n",
       "  </thead>\n",
       "  <tbody>\n",
       "    <tr>\n",
       "      <th>0</th>\n",
       "      <td>Jan</td>\n",
       "      <td>High</td>\n",
       "    </tr>\n",
       "    <tr>\n",
       "      <th>1</th>\n",
       "      <td>Feb</td>\n",
       "      <td>Mid</td>\n",
       "    </tr>\n",
       "    <tr>\n",
       "      <th>2</th>\n",
       "      <td>Mar</td>\n",
       "      <td>Low</td>\n",
       "    </tr>\n",
       "    <tr>\n",
       "      <th>3</th>\n",
       "      <td>Apr</td>\n",
       "      <td>Low</td>\n",
       "    </tr>\n",
       "    <tr>\n",
       "      <th>4</th>\n",
       "      <td>May</td>\n",
       "      <td>Low</td>\n",
       "    </tr>\n",
       "  </tbody>\n",
       "</table>\n",
       "</div>"
      ],
      "text/plain": [
       "  Month Season\n",
       "0   Jan   High\n",
       "1   Feb    Mid\n",
       "2   Mar    Low\n",
       "3   Apr    Low\n",
       "4   May    Low"
      ]
     },
     "execution_count": 3,
     "metadata": {},
     "output_type": "execute_result"
    }
   ],
   "source": [
    "# have a glimpse of the data1\n",
    "\n",
    "data1.head()"
   ]
  },
  {
   "cell_type": "markdown",
   "id": "7f9c5cea",
   "metadata": {},
   "source": [
    " "
   ]
  },
  {
   "cell_type": "code",
   "execution_count": 4,
   "id": "e371c990",
   "metadata": {},
   "outputs": [
    {
     "data": {
      "text/plain": [
       "(12, 2)"
      ]
     },
     "execution_count": 4,
     "metadata": {},
     "output_type": "execute_result"
    }
   ],
   "source": [
    "#checking the shape of the data\n",
    "\n",
    "data1.shape"
   ]
  },
  {
   "cell_type": "markdown",
   "id": "273624f2",
   "metadata": {},
   "source": [
    "> We can see from the above result that the data has `12` observations and `2` columns."
   ]
  },
  {
   "cell_type": "code",
   "execution_count": 5,
   "id": "f330fef8",
   "metadata": {},
   "outputs": [
    {
     "name": "stdout",
     "output_type": "stream",
     "text": [
      "<class 'pandas.core.frame.DataFrame'>\n",
      "RangeIndex: 12 entries, 0 to 11\n",
      "Data columns (total 2 columns):\n",
      " #   Column  Non-Null Count  Dtype \n",
      "---  ------  --------------  ----- \n",
      " 0   Month   12 non-null     object\n",
      " 1   Season  12 non-null     object\n",
      "dtypes: object(2)\n",
      "memory usage: 320.0+ bytes\n"
     ]
    },
    {
     "data": {
      "text/plain": [
       "<bound method NDFrame.describe of    Month Season\n",
       "0    Jan   High\n",
       "1    Feb    Mid\n",
       "2    Mar    Low\n",
       "3    Apr    Low\n",
       "4    May    Low\n",
       "5    Jun   High\n",
       "6    Jul   High\n",
       "7    Aug   High\n",
       "8    Sep    Mid\n",
       "9    Oct    Low\n",
       "10   Nov    Low\n",
       "11   Dec   High>"
      ]
     },
     "execution_count": 5,
     "metadata": {},
     "output_type": "execute_result"
    }
   ],
   "source": [
    "#inspecting data type\n",
    "\n",
    "data1.info()\n",
    "\n",
    "data1.describe"
   ]
  },
  {
   "cell_type": "markdown",
   "id": "3b36b09a",
   "metadata": {},
   "source": [
    "> We can see from the above result that the data is complete. There are no missing values, and no duplicates. We will move on to assessing the transactional data."
   ]
  },
  {
   "cell_type": "markdown",
   "id": "479de81d",
   "metadata": {},
   "source": [
    " "
   ]
  },
  {
   "cell_type": "markdown",
   "id": "ab6bda70",
   "metadata": {},
   "source": [
    "#### Data Quality Summary:"
   ]
  },
  {
   "cell_type": "markdown",
   "id": "20749ccb",
   "metadata": {},
   "source": [
    "* As stated earlier, the data is made up of 2 columns which are;\n",
    "    * **`Month:`**  This column represents the month of the season.\n",
    "    * **`Season:`**  This column represents the various seasons that occured.    \n",
    "\n",
    "\n",
    "* Also, the data types for each column is accurate.\n",
    "\n",
    "\n",
    "* Finally, the data does not contain any missing values. "
   ]
  },
  {
   "cell_type": "markdown",
   "id": "6e37a492",
   "metadata": {},
   "source": [
    " "
   ]
  },
  {
   "cell_type": "markdown",
   "id": "6ec78ece",
   "metadata": {},
   "source": [
    "#### 2.1.2 Inspecting the transaction Data <a id='td'></a>"
   ]
  },
  {
   "cell_type": "markdown",
   "id": "60b48add",
   "metadata": {},
   "source": [
    "In this step we will inspect the transaction data (`data`) to get an overview of what the data entails and also assess the quality of the data and make all the possible recommendation for cleaning this data."
   ]
  },
  {
   "cell_type": "code",
   "execution_count": 6,
   "id": "6f8a8f83",
   "metadata": {
    "scrolled": true
   },
   "outputs": [
    {
     "data": {
      "text/html": [
       "<div>\n",
       "<style scoped>\n",
       "    .dataframe tbody tr th:only-of-type {\n",
       "        vertical-align: middle;\n",
       "    }\n",
       "\n",
       "    .dataframe tbody tr th {\n",
       "        vertical-align: top;\n",
       "    }\n",
       "\n",
       "    .dataframe thead th {\n",
       "        text-align: right;\n",
       "    }\n",
       "</style>\n",
       "<table border=\"1\" class=\"dataframe\">\n",
       "  <thead>\n",
       "    <tr style=\"text-align: right;\">\n",
       "      <th></th>\n",
       "      <th>UserId</th>\n",
       "      <th>TransactionId</th>\n",
       "      <th>Year</th>\n",
       "      <th>Month</th>\n",
       "      <th>Day</th>\n",
       "      <th>Time</th>\n",
       "      <th>ItemCode</th>\n",
       "      <th>ItemDescription</th>\n",
       "      <th>NumberOfItemsPurchased</th>\n",
       "      <th>CostPerItem</th>\n",
       "      <th>SellingPricePerItem</th>\n",
       "      <th>Country</th>\n",
       "      <th>ClientKeywords,,</th>\n",
       "    </tr>\n",
       "  </thead>\n",
       "  <tbody>\n",
       "    <tr>\n",
       "      <th>0</th>\n",
       "      <td>278166</td>\n",
       "      <td>6355745.0</td>\n",
       "      <td>2019.0</td>\n",
       "      <td>Feb</td>\n",
       "      <td>2.0</td>\n",
       "      <td>12:50:00</td>\n",
       "      <td>465549.0</td>\n",
       "      <td>FAMILY ALBUM WHITE PICTURE FRAME</td>\n",
       "      <td>6.0</td>\n",
       "      <td>11.73</td>\n",
       "      <td>21.11</td>\n",
       "      <td>United Kingdom</td>\n",
       "      <td>['Senior', 'Solo Entrepreneur', '2-5 Year Clie...</td>\n",
       "    </tr>\n",
       "    <tr>\n",
       "      <th>1</th>\n",
       "      <td>337701</td>\n",
       "      <td>6283376.0</td>\n",
       "      <td>2018.0</td>\n",
       "      <td>Dec</td>\n",
       "      <td>26.0</td>\n",
       "      <td>09:06:00</td>\n",
       "      <td>482370.0</td>\n",
       "      <td>LONDON BUS COFFEE MUG</td>\n",
       "      <td>3.0</td>\n",
       "      <td>3.52</td>\n",
       "      <td>3.87</td>\n",
       "      <td>United Kingdom</td>\n",
       "      <td>['Middle Age', 'Corporation', '2-5 Year Client']</td>\n",
       "    </tr>\n",
       "    <tr>\n",
       "      <th>2</th>\n",
       "      <td>267099</td>\n",
       "      <td>6385599.0</td>\n",
       "      <td>2019.0</td>\n",
       "      <td>Feb</td>\n",
       "      <td>15.0</td>\n",
       "      <td>09:45:00</td>\n",
       "      <td>490728.0</td>\n",
       "      <td>SET 12 COLOUR PENCILS DOLLY GIRL</td>\n",
       "      <td>72.0</td>\n",
       "      <td>0.90</td>\n",
       "      <td>1.62</td>\n",
       "      <td>France</td>\n",
       "      <td>['Middle Age', 'Corporation', '2-5 Year Client']</td>\n",
       "    </tr>\n",
       "    <tr>\n",
       "      <th>3</th>\n",
       "      <td>380478</td>\n",
       "      <td>6044973.0</td>\n",
       "      <td>2018.0</td>\n",
       "      <td>Jun</td>\n",
       "      <td>22.0</td>\n",
       "      <td>07:14:00</td>\n",
       "      <td>459186.0</td>\n",
       "      <td>UNION JACK FLAG LUGGAGE TAG</td>\n",
       "      <td>3.0</td>\n",
       "      <td>1.73</td>\n",
       "      <td>1.90</td>\n",
       "      <td>United Kingdom</td>\n",
       "      <td>['Middle Age', 'Small Business', 'New Client']</td>\n",
       "    </tr>\n",
       "  </tbody>\n",
       "</table>\n",
       "</div>"
      ],
      "text/plain": [
       "   UserId  TransactionId    Year Month   Day      Time  ItemCode  \\\n",
       "0  278166      6355745.0  2019.0   Feb   2.0  12:50:00  465549.0   \n",
       "1  337701      6283376.0  2018.0   Dec  26.0  09:06:00  482370.0   \n",
       "2  267099      6385599.0  2019.0   Feb  15.0  09:45:00  490728.0   \n",
       "3  380478      6044973.0  2018.0   Jun  22.0  07:14:00  459186.0   \n",
       "\n",
       "                     ItemDescription  NumberOfItemsPurchased  CostPerItem  \\\n",
       "0   FAMILY ALBUM WHITE PICTURE FRAME                     6.0        11.73   \n",
       "1              LONDON BUS COFFEE MUG                     3.0         3.52   \n",
       "2  SET 12 COLOUR PENCILS DOLLY GIRL                     72.0         0.90   \n",
       "3        UNION JACK FLAG LUGGAGE TAG                     3.0         1.73   \n",
       "\n",
       "   SellingPricePerItem         Country  \\\n",
       "0                21.11  United Kingdom   \n",
       "1                 3.87  United Kingdom   \n",
       "2                 1.62          France   \n",
       "3                 1.90  United Kingdom   \n",
       "\n",
       "                                    ClientKeywords,,  \n",
       "0  ['Senior', 'Solo Entrepreneur', '2-5 Year Clie...  \n",
       "1   ['Middle Age', 'Corporation', '2-5 Year Client']  \n",
       "2   ['Middle Age', 'Corporation', '2-5 Year Client']  \n",
       "3     ['Middle Age', 'Small Business', 'New Client']  "
      ]
     },
     "execution_count": 6,
     "metadata": {},
     "output_type": "execute_result"
    }
   ],
   "source": [
    "# have a glimpse of the data\n",
    "\n",
    "data.head(4)"
   ]
  },
  {
   "cell_type": "code",
   "execution_count": 7,
   "id": "640354b1",
   "metadata": {},
   "outputs": [
    {
     "data": {
      "text/plain": [
       "(1047588, 13)"
      ]
     },
     "execution_count": 7,
     "metadata": {},
     "output_type": "execute_result"
    }
   ],
   "source": [
    "# inspect the shape of the dataframe\n",
    "\n",
    "data.shape"
   ]
  },
  {
   "cell_type": "markdown",
   "id": "5305cd98",
   "metadata": {},
   "source": [
    "> We can see from the above results that we have `1047588` observations and `13` columns. The data is rich enough to help us perform our analysis. However, we will move on to assess the quality of the data and make all the possible recommendations for cleaning before setting out to achieve our goals."
   ]
  },
  {
   "cell_type": "code",
   "execution_count": 8,
   "id": "6658810a",
   "metadata": {
    "scrolled": true
   },
   "outputs": [
    {
     "name": "stdout",
     "output_type": "stream",
     "text": [
      "<class 'pandas.core.frame.DataFrame'>\n",
      "RangeIndex: 1047588 entries, 0 to 1047587\n",
      "Data columns (total 13 columns):\n",
      " #   Column                  Non-Null Count    Dtype  \n",
      "---  ------                  --------------    -----  \n",
      " 0   UserId                  1047588 non-null  object \n",
      " 1   TransactionId           1045208 non-null  float64\n",
      " 2   Year                    1045208 non-null  float64\n",
      " 3   Month                   1045208 non-null  object \n",
      " 4   Day                     1045208 non-null  float64\n",
      " 5   Time                    1045208 non-null  object \n",
      " 6   ItemCode                1045208 non-null  float64\n",
      " 7   ItemDescription         1042417 non-null  object \n",
      " 8   NumberOfItemsPurchased  1045208 non-null  float64\n",
      " 9   CostPerItem             1045208 non-null  float64\n",
      " 10  SellingPricePerItem     1045208 non-null  float64\n",
      " 11  Country                 1045208 non-null  object \n",
      " 12  ClientKeywords,,        1045208 non-null  object \n",
      "dtypes: float64(7), object(6)\n",
      "memory usage: 103.9+ MB\n"
     ]
    }
   ],
   "source": [
    "#getting data information\n",
    "\n",
    "data.info()"
   ]
  },
  {
   "cell_type": "code",
   "execution_count": 9,
   "id": "ee5691a0",
   "metadata": {},
   "outputs": [
    {
     "data": {
      "text/plain": [
       "Index(['UserId', 'TransactionId', 'Year', 'Month', 'Day', 'Time', 'ItemCode',\n",
       "       'ItemDescription', 'NumberOfItemsPurchased', 'CostPerItem',\n",
       "       'SellingPricePerItem', 'Country', 'ClientKeywords,,'],\n",
       "      dtype='object')"
      ]
     },
     "execution_count": 9,
     "metadata": {},
     "output_type": "execute_result"
    }
   ],
   "source": [
    "# viewing the columns\n",
    "\n",
    "data.columns"
   ]
  },
  {
   "cell_type": "markdown",
   "id": "33640300",
   "metadata": {},
   "source": [
    " "
   ]
  },
  {
   "cell_type": "markdown",
   "id": "9183d9a4",
   "metadata": {},
   "source": [
    "We will proceed by checking if the data contain any missing values. We can easily tell from the results of the info but we want to be extremely sure there are no missing values."
   ]
  },
  {
   "cell_type": "code",
   "execution_count": 10,
   "id": "0ce63e42",
   "metadata": {},
   "outputs": [
    {
     "data": {
      "text/plain": [
       "UserId                       0\n",
       "TransactionId             2380\n",
       "Year                      2380\n",
       "Month                     2380\n",
       "Day                       2380\n",
       "Time                      2380\n",
       "ItemCode                  2380\n",
       "ItemDescription           5171\n",
       "NumberOfItemsPurchased    2380\n",
       "CostPerItem               2380\n",
       "SellingPricePerItem       2380\n",
       "Country                   2380\n",
       "ClientKeywords,,          2380\n",
       "dtype: int64"
      ]
     },
     "execution_count": 10,
     "metadata": {},
     "output_type": "execute_result"
    }
   ],
   "source": [
    "#checking for total missing values in each column\n",
    "\n",
    "data.isnull().sum()"
   ]
  },
  {
   "cell_type": "markdown",
   "id": "3b3e470e",
   "metadata": {},
   "source": [
    " "
   ]
  },
  {
   "cell_type": "markdown",
   "id": "72a2e625",
   "metadata": {},
   "source": [
    " "
   ]
  },
  {
   "cell_type": "markdown",
   "id": "49f88b35",
   "metadata": {},
   "source": [
    "#### Data Quality Summary:"
   ]
  },
  {
   "cell_type": "markdown",
   "id": "7173a200",
   "metadata": {},
   "source": [
    "This data presents a lot of opportunity for data cleaning. This is because most of the features have issues that have to be resolved. Also, we have to determine which columns will not be needed for various reasons and then consequently drop them.\n",
    "\n",
    "Based on the ouputs displayed above, here is the summary of the data quality issues which have to be fixed during the data cleaning process:<br>\n",
    "\n",
    "* Since the null values in some of the columns are few, we will drop just those rows with missing values in order to be able to perform calculations on our data without errors. We will drop null values in all columns except the UserId column which has no null values.\n",
    "\n",
    "\n",
    "* We will need to rename some columns. The column to be renamed is:\n",
    "  * `ClientKeywords,,` We will eliminate ',,' at the end.\n",
    "\n",
    "\n",
    "* We also need to properly format the data types for some of the columns which include:\n",
    "    * **UserId**  (format to int data type)\n",
    "    * **TransactionId** (format to int data type)\n",
    "    * **Year** (format to int data type)\n",
    "    * **Day** (format to int data type)\n",
    "    * **ItemCode** (format to int data type)\n",
    "    * **NumberofItemsPurchased** (format to int data type)\n",
    "\n",
    "\n",
    "* Again, we will format the date by combining day,year and month to make it more readable. We will aslo split `clientkeywords` column into 3 separate columns to make it easy to filter for information on the dashboard.\n",
    "\n",
    "\n",
    "* Finally, there are some columns that will not be needed after merging the two dataframes for the analysis we seek to perform and dashboard  building. These columns are:\n",
    "    * **Day**  (can be found in the date column created)\n",
    "    * **Year** (can be found in the date column created)\n",
    "    * **Month** (can be found in the date column created)\n",
    "    * **ClientKeywords** (has been splitted into separate columns)"
   ]
  },
  {
   "cell_type": "markdown",
   "id": "dc1cbaa9",
   "metadata": {},
   "source": [
    " "
   ]
  },
  {
   "cell_type": "markdown",
   "id": "fa3a14de",
   "metadata": {},
   "source": [
    " "
   ]
  },
  {
   "cell_type": "markdown",
   "id": "0077e9e8",
   "metadata": {},
   "source": [
    "### 2.2 Data Cleaning and Preprocessing<a id='dcp'></a>"
   ]
  },
  {
   "cell_type": "markdown",
   "id": "49ec3f9d",
   "metadata": {},
   "source": [
    "#### Data Cleaning - Season data"
   ]
  },
  {
   "cell_type": "markdown",
   "id": "ad8f0a2e",
   "metadata": {},
   "source": [
    "From the data quality assessment we stated that this data is clean and does not require any further cleansing. However, we will merge it with the transaction data in order to perform any suitable analysis."
   ]
  },
  {
   "cell_type": "markdown",
   "id": "e569b471",
   "metadata": {},
   "source": [
    " "
   ]
  },
  {
   "cell_type": "markdown",
   "id": "5b06317f",
   "metadata": {},
   "source": [
    "####  Data Cleaning - Transaction data"
   ]
  },
  {
   "cell_type": "markdown",
   "id": "e8dcf062",
   "metadata": {},
   "source": [
    "<p style=\"text-align:justify\">The preprocessing step (usually an iterative process) is carried out to clean the data based on data quality issues identified. During the data quality assessment, we identified various data quality issues including missing values, incorrect data, inconsistent values, etc. \n",
    "\n",
    "In this task we will perform all the initial data cleaning and preprocessing needed on the transaction data.</p>"
   ]
  },
  {
   "cell_type": "markdown",
   "id": "192fc3c7",
   "metadata": {},
   "source": [
    "#### Handling Missing Values\n",
    "\n",
    "In this step, we will delete all rows of misisng values from their columns."
   ]
  },
  {
   "cell_type": "code",
   "execution_count": 11,
   "id": "3536076b",
   "metadata": {},
   "outputs": [
    {
     "data": {
      "text/plain": [
       "UserId                    0\n",
       "TransactionId             0\n",
       "Year                      0\n",
       "Month                     0\n",
       "Day                       0\n",
       "Time                      0\n",
       "ItemCode                  0\n",
       "ItemDescription           0\n",
       "NumberOfItemsPurchased    0\n",
       "CostPerItem               0\n",
       "SellingPricePerItem       0\n",
       "Country                   0\n",
       "ClientKeywords,,          0\n",
       "dtype: int64"
      ]
     },
     "execution_count": 11,
     "metadata": {},
     "output_type": "execute_result"
    }
   ],
   "source": [
    "#drop missing values\n",
    "\n",
    "data = data.dropna()\n",
    "\n",
    "#inspect data for missing values\n",
    "data.isnull().sum()"
   ]
  },
  {
   "cell_type": "markdown",
   "id": "86ea02e5",
   "metadata": {},
   "source": [
    " "
   ]
  },
  {
   "cell_type": "markdown",
   "id": "426921a9",
   "metadata": {},
   "source": [
    "#### Renaming Columns\n",
    "\n",
    "Here, we will rename the `ClientKeywords,,` column by elinimating `,,` at the end to enable us to easily read and use the column in the future."
   ]
  },
  {
   "cell_type": "code",
   "execution_count": 12,
   "id": "61b57834",
   "metadata": {},
   "outputs": [],
   "source": [
    "data.rename(columns={'ClientKeywords,,':'ClientKeywords'}, inplace=True)"
   ]
  },
  {
   "cell_type": "markdown",
   "id": "4776bb1e",
   "metadata": {},
   "source": [
    "  "
   ]
  },
  {
   "cell_type": "markdown",
   "id": "4091c0db",
   "metadata": {},
   "source": [
    " "
   ]
  },
  {
   "cell_type": "markdown",
   "id": "cb604d1f",
   "metadata": {},
   "source": [
    "#### Data Type Formatting\n",
    "\n",
    "In this step we will format the columns to the correct data types which will make our analysis easier."
   ]
  },
  {
   "cell_type": "code",
   "execution_count": 13,
   "id": "9739de49",
   "metadata": {},
   "outputs": [
    {
     "data": {
      "text/plain": [
       "UserId                     object\n",
       "TransactionId             float64\n",
       "Year                      float64\n",
       "Month                      object\n",
       "Day                       float64\n",
       "Time                       object\n",
       "ItemCode                  float64\n",
       "ItemDescription            object\n",
       "NumberOfItemsPurchased    float64\n",
       "CostPerItem               float64\n",
       "SellingPricePerItem       float64\n",
       "Country                    object\n",
       "ClientKeywords             object\n",
       "dtype: object"
      ]
     },
     "execution_count": 13,
     "metadata": {},
     "output_type": "execute_result"
    }
   ],
   "source": [
    "#inspecting the columns data type\n",
    "\n",
    "data.dtypes"
   ]
  },
  {
   "cell_type": "code",
   "execution_count": 14,
   "id": "2a74364a",
   "metadata": {},
   "outputs": [],
   "source": [
    "# formatting data types\n",
    "\n",
    "data[['Year', 'Day', 'ItemCode', 'TransactionId', 'UserId']] = data[['Year', 'Day', 'ItemCode', 'TransactionId', 'UserId']].astype(int)\n",
    "\n",
    "data['NumberOfItemsPurchased'] = data['NumberOfItemsPurchased'].astype(int)"
   ]
  },
  {
   "cell_type": "markdown",
   "id": "c3e31e4b",
   "metadata": {},
   "source": [
    " "
   ]
  },
  {
   "cell_type": "code",
   "execution_count": 15,
   "id": "c985a718",
   "metadata": {
    "scrolled": true
   },
   "outputs": [
    {
     "data": {
      "text/plain": [
       "UserId                      int32\n",
       "TransactionId               int32\n",
       "Year                        int32\n",
       "Month                      object\n",
       "Day                         int32\n",
       "Time                       object\n",
       "ItemCode                    int32\n",
       "ItemDescription            object\n",
       "NumberOfItemsPurchased      int32\n",
       "CostPerItem               float64\n",
       "SellingPricePerItem       float64\n",
       "Country                    object\n",
       "ClientKeywords             object\n",
       "dtype: object"
      ]
     },
     "execution_count": 15,
     "metadata": {},
     "output_type": "execute_result"
    }
   ],
   "source": [
    "# inspect the columns data types after conversion\n",
    "\n",
    "data.dtypes"
   ]
  },
  {
   "cell_type": "markdown",
   "id": "f795c446",
   "metadata": {},
   "source": [
    " "
   ]
  },
  {
   "cell_type": "markdown",
   "id": "82807b49",
   "metadata": {},
   "source": [
    "#### Combining Date Columns\n",
    "\n",
    "In this step we will combine the `Day`, `Month` and `Year` columns into a new column called `Date`. This will make the date a lot more readable."
   ]
  },
  {
   "cell_type": "code",
   "execution_count": 16,
   "id": "5cc02040",
   "metadata": {},
   "outputs": [],
   "source": [
    "# combine Day,Year and Month columns\n",
    "\n",
    "day = data['Day'].astype(str)\n",
    "year = data['Year'].astype(str)\n",
    "\n",
    "data['Date'] = day +'-' + data['Month'] +'-' + year"
   ]
  },
  {
   "cell_type": "code",
   "execution_count": 17,
   "id": "69483a64",
   "metadata": {
    "scrolled": true
   },
   "outputs": [
    {
     "data": {
      "text/html": [
       "<div>\n",
       "<style scoped>\n",
       "    .dataframe tbody tr th:only-of-type {\n",
       "        vertical-align: middle;\n",
       "    }\n",
       "\n",
       "    .dataframe tbody tr th {\n",
       "        vertical-align: top;\n",
       "    }\n",
       "\n",
       "    .dataframe thead th {\n",
       "        text-align: right;\n",
       "    }\n",
       "</style>\n",
       "<table border=\"1\" class=\"dataframe\">\n",
       "  <thead>\n",
       "    <tr style=\"text-align: right;\">\n",
       "      <th></th>\n",
       "      <th>UserId</th>\n",
       "      <th>TransactionId</th>\n",
       "      <th>Year</th>\n",
       "      <th>Month</th>\n",
       "      <th>Day</th>\n",
       "      <th>Time</th>\n",
       "      <th>ItemCode</th>\n",
       "      <th>ItemDescription</th>\n",
       "      <th>NumberOfItemsPurchased</th>\n",
       "      <th>CostPerItem</th>\n",
       "      <th>SellingPricePerItem</th>\n",
       "      <th>Country</th>\n",
       "      <th>ClientKeywords</th>\n",
       "      <th>Date</th>\n",
       "    </tr>\n",
       "  </thead>\n",
       "  <tbody>\n",
       "    <tr>\n",
       "      <th>0</th>\n",
       "      <td>278166</td>\n",
       "      <td>6355745</td>\n",
       "      <td>2019</td>\n",
       "      <td>Feb</td>\n",
       "      <td>2</td>\n",
       "      <td>12:50:00</td>\n",
       "      <td>465549</td>\n",
       "      <td>FAMILY ALBUM WHITE PICTURE FRAME</td>\n",
       "      <td>6</td>\n",
       "      <td>11.73</td>\n",
       "      <td>21.11</td>\n",
       "      <td>United Kingdom</td>\n",
       "      <td>['Senior', 'Solo Entrepreneur', '2-5 Year Clie...</td>\n",
       "      <td>2-Feb-2019</td>\n",
       "    </tr>\n",
       "    <tr>\n",
       "      <th>1</th>\n",
       "      <td>337701</td>\n",
       "      <td>6283376</td>\n",
       "      <td>2018</td>\n",
       "      <td>Dec</td>\n",
       "      <td>26</td>\n",
       "      <td>09:06:00</td>\n",
       "      <td>482370</td>\n",
       "      <td>LONDON BUS COFFEE MUG</td>\n",
       "      <td>3</td>\n",
       "      <td>3.52</td>\n",
       "      <td>3.87</td>\n",
       "      <td>United Kingdom</td>\n",
       "      <td>['Middle Age', 'Corporation', '2-5 Year Client']</td>\n",
       "      <td>26-Dec-2018</td>\n",
       "    </tr>\n",
       "    <tr>\n",
       "      <th>2</th>\n",
       "      <td>267099</td>\n",
       "      <td>6385599</td>\n",
       "      <td>2019</td>\n",
       "      <td>Feb</td>\n",
       "      <td>15</td>\n",
       "      <td>09:45:00</td>\n",
       "      <td>490728</td>\n",
       "      <td>SET 12 COLOUR PENCILS DOLLY GIRL</td>\n",
       "      <td>72</td>\n",
       "      <td>0.90</td>\n",
       "      <td>1.62</td>\n",
       "      <td>France</td>\n",
       "      <td>['Middle Age', 'Corporation', '2-5 Year Client']</td>\n",
       "      <td>15-Feb-2019</td>\n",
       "    </tr>\n",
       "  </tbody>\n",
       "</table>\n",
       "</div>"
      ],
      "text/plain": [
       "   UserId  TransactionId  Year Month  Day      Time  ItemCode  \\\n",
       "0  278166        6355745  2019   Feb    2  12:50:00    465549   \n",
       "1  337701        6283376  2018   Dec   26  09:06:00    482370   \n",
       "2  267099        6385599  2019   Feb   15  09:45:00    490728   \n",
       "\n",
       "                     ItemDescription  NumberOfItemsPurchased  CostPerItem  \\\n",
       "0   FAMILY ALBUM WHITE PICTURE FRAME                       6        11.73   \n",
       "1              LONDON BUS COFFEE MUG                       3         3.52   \n",
       "2  SET 12 COLOUR PENCILS DOLLY GIRL                       72         0.90   \n",
       "\n",
       "   SellingPricePerItem         Country  \\\n",
       "0                21.11  United Kingdom   \n",
       "1                 3.87  United Kingdom   \n",
       "2                 1.62          France   \n",
       "\n",
       "                                      ClientKeywords         Date  \n",
       "0  ['Senior', 'Solo Entrepreneur', '2-5 Year Clie...   2-Feb-2019  \n",
       "1   ['Middle Age', 'Corporation', '2-5 Year Client']  26-Dec-2018  \n",
       "2   ['Middle Age', 'Corporation', '2-5 Year Client']  15-Feb-2019  "
      ]
     },
     "execution_count": 17,
     "metadata": {},
     "output_type": "execute_result"
    }
   ],
   "source": [
    "#have a glimpse of the data\n",
    "\n",
    "data.head(3)"
   ]
  },
  {
   "cell_type": "markdown",
   "id": "abf09597",
   "metadata": {},
   "source": [
    " "
   ]
  },
  {
   "cell_type": "markdown",
   "id": "d91d359c",
   "metadata": {},
   "source": [
    "#### Splitting Clientkeywords Column\n",
    "\n",
    "In this step we will split the values for `clientKeywords` column and assign the values to age, business type and length of contract."
   ]
  },
  {
   "cell_type": "code",
   "execution_count": 18,
   "id": "a47b8a1e",
   "metadata": {},
   "outputs": [],
   "source": [
    "#splitting and formatting ClientKeywords column\n",
    "\n",
    "data['ClientAge'] = data['ClientKeywords'].str.split(',', expand=True)[0]\n",
    "data['ClientType'] = data['ClientKeywords'].str.split(',', expand=True)[1]\n",
    "data['LengthOfContract'] = data['ClientKeywords'].str.split(',', expand=True)[2]\n",
    "\n",
    "data['ClientAge'] = data['ClientAge'].str.replace('[', '')\n",
    "data['LengthOfContract'] = data['LengthOfContract'].str.replace(']', '')"
   ]
  },
  {
   "cell_type": "code",
   "execution_count": 19,
   "id": "7bf7c7ae",
   "metadata": {},
   "outputs": [
    {
     "data": {
      "text/html": [
       "<div>\n",
       "<style scoped>\n",
       "    .dataframe tbody tr th:only-of-type {\n",
       "        vertical-align: middle;\n",
       "    }\n",
       "\n",
       "    .dataframe tbody tr th {\n",
       "        vertical-align: top;\n",
       "    }\n",
       "\n",
       "    .dataframe thead th {\n",
       "        text-align: right;\n",
       "    }\n",
       "</style>\n",
       "<table border=\"1\" class=\"dataframe\">\n",
       "  <thead>\n",
       "    <tr style=\"text-align: right;\">\n",
       "      <th></th>\n",
       "      <th>UserId</th>\n",
       "      <th>TransactionId</th>\n",
       "      <th>Year</th>\n",
       "      <th>Month</th>\n",
       "      <th>Day</th>\n",
       "      <th>Time</th>\n",
       "      <th>ItemCode</th>\n",
       "      <th>ItemDescription</th>\n",
       "      <th>NumberOfItemsPurchased</th>\n",
       "      <th>CostPerItem</th>\n",
       "      <th>SellingPricePerItem</th>\n",
       "      <th>Country</th>\n",
       "      <th>ClientKeywords</th>\n",
       "      <th>Date</th>\n",
       "      <th>ClientAge</th>\n",
       "      <th>ClientType</th>\n",
       "      <th>LengthOfContract</th>\n",
       "    </tr>\n",
       "  </thead>\n",
       "  <tbody>\n",
       "    <tr>\n",
       "      <th>0</th>\n",
       "      <td>278166</td>\n",
       "      <td>6355745</td>\n",
       "      <td>2019</td>\n",
       "      <td>Feb</td>\n",
       "      <td>2</td>\n",
       "      <td>12:50:00</td>\n",
       "      <td>465549</td>\n",
       "      <td>FAMILY ALBUM WHITE PICTURE FRAME</td>\n",
       "      <td>6</td>\n",
       "      <td>11.73</td>\n",
       "      <td>21.11</td>\n",
       "      <td>United Kingdom</td>\n",
       "      <td>['Senior', 'Solo Entrepreneur', '2-5 Year Clie...</td>\n",
       "      <td>2-Feb-2019</td>\n",
       "      <td>'Senior'</td>\n",
       "      <td>'Solo Entrepreneur'</td>\n",
       "      <td>'2-5 Year Client'</td>\n",
       "    </tr>\n",
       "    <tr>\n",
       "      <th>1</th>\n",
       "      <td>337701</td>\n",
       "      <td>6283376</td>\n",
       "      <td>2018</td>\n",
       "      <td>Dec</td>\n",
       "      <td>26</td>\n",
       "      <td>09:06:00</td>\n",
       "      <td>482370</td>\n",
       "      <td>LONDON BUS COFFEE MUG</td>\n",
       "      <td>3</td>\n",
       "      <td>3.52</td>\n",
       "      <td>3.87</td>\n",
       "      <td>United Kingdom</td>\n",
       "      <td>['Middle Age', 'Corporation', '2-5 Year Client']</td>\n",
       "      <td>26-Dec-2018</td>\n",
       "      <td>'Middle Age'</td>\n",
       "      <td>'Corporation'</td>\n",
       "      <td>'2-5 Year Client'</td>\n",
       "    </tr>\n",
       "    <tr>\n",
       "      <th>2</th>\n",
       "      <td>267099</td>\n",
       "      <td>6385599</td>\n",
       "      <td>2019</td>\n",
       "      <td>Feb</td>\n",
       "      <td>15</td>\n",
       "      <td>09:45:00</td>\n",
       "      <td>490728</td>\n",
       "      <td>SET 12 COLOUR PENCILS DOLLY GIRL</td>\n",
       "      <td>72</td>\n",
       "      <td>0.90</td>\n",
       "      <td>1.62</td>\n",
       "      <td>France</td>\n",
       "      <td>['Middle Age', 'Corporation', '2-5 Year Client']</td>\n",
       "      <td>15-Feb-2019</td>\n",
       "      <td>'Middle Age'</td>\n",
       "      <td>'Corporation'</td>\n",
       "      <td>'2-5 Year Client'</td>\n",
       "    </tr>\n",
       "  </tbody>\n",
       "</table>\n",
       "</div>"
      ],
      "text/plain": [
       "   UserId  TransactionId  Year Month  Day      Time  ItemCode  \\\n",
       "0  278166        6355745  2019   Feb    2  12:50:00    465549   \n",
       "1  337701        6283376  2018   Dec   26  09:06:00    482370   \n",
       "2  267099        6385599  2019   Feb   15  09:45:00    490728   \n",
       "\n",
       "                     ItemDescription  NumberOfItemsPurchased  CostPerItem  \\\n",
       "0   FAMILY ALBUM WHITE PICTURE FRAME                       6        11.73   \n",
       "1              LONDON BUS COFFEE MUG                       3         3.52   \n",
       "2  SET 12 COLOUR PENCILS DOLLY GIRL                       72         0.90   \n",
       "\n",
       "   SellingPricePerItem         Country  \\\n",
       "0                21.11  United Kingdom   \n",
       "1                 3.87  United Kingdom   \n",
       "2                 1.62          France   \n",
       "\n",
       "                                      ClientKeywords         Date  \\\n",
       "0  ['Senior', 'Solo Entrepreneur', '2-5 Year Clie...   2-Feb-2019   \n",
       "1   ['Middle Age', 'Corporation', '2-5 Year Client']  26-Dec-2018   \n",
       "2   ['Middle Age', 'Corporation', '2-5 Year Client']  15-Feb-2019   \n",
       "\n",
       "      ClientAge            ClientType    LengthOfContract  \n",
       "0      'Senior'   'Solo Entrepreneur'   '2-5 Year Client'  \n",
       "1  'Middle Age'         'Corporation'   '2-5 Year Client'  \n",
       "2  'Middle Age'         'Corporation'   '2-5 Year Client'  "
      ]
     },
     "execution_count": 19,
     "metadata": {},
     "output_type": "execute_result"
    }
   ],
   "source": [
    "#inspecting data after spiltting\n",
    "\n",
    "data.head(3)"
   ]
  },
  {
   "cell_type": "markdown",
   "id": "8e778794",
   "metadata": {},
   "source": [
    " "
   ]
  },
  {
   "cell_type": "markdown",
   "id": "d59c2c24",
   "metadata": {},
   "source": [
    "#### Formatting ItemDescription Column"
   ]
  },
  {
   "cell_type": "markdown",
   "id": "21e6c2f1",
   "metadata": {},
   "source": [
    "In this step, we will change the font of the ItemDescription data from upper case to lower case. This will ensure consistency in the data."
   ]
  },
  {
   "cell_type": "code",
   "execution_count": 20,
   "id": "2d126d05",
   "metadata": {},
   "outputs": [
    {
     "data": {
      "text/html": [
       "<div>\n",
       "<style scoped>\n",
       "    .dataframe tbody tr th:only-of-type {\n",
       "        vertical-align: middle;\n",
       "    }\n",
       "\n",
       "    .dataframe tbody tr th {\n",
       "        vertical-align: top;\n",
       "    }\n",
       "\n",
       "    .dataframe thead th {\n",
       "        text-align: right;\n",
       "    }\n",
       "</style>\n",
       "<table border=\"1\" class=\"dataframe\">\n",
       "  <thead>\n",
       "    <tr style=\"text-align: right;\">\n",
       "      <th></th>\n",
       "      <th>UserId</th>\n",
       "      <th>TransactionId</th>\n",
       "      <th>Year</th>\n",
       "      <th>Month</th>\n",
       "      <th>Day</th>\n",
       "      <th>Time</th>\n",
       "      <th>ItemCode</th>\n",
       "      <th>ItemDescription</th>\n",
       "      <th>NumberOfItemsPurchased</th>\n",
       "      <th>CostPerItem</th>\n",
       "      <th>SellingPricePerItem</th>\n",
       "      <th>Country</th>\n",
       "      <th>ClientKeywords</th>\n",
       "      <th>Date</th>\n",
       "      <th>ClientAge</th>\n",
       "      <th>ClientType</th>\n",
       "      <th>LengthOfContract</th>\n",
       "    </tr>\n",
       "  </thead>\n",
       "  <tbody>\n",
       "    <tr>\n",
       "      <th>0</th>\n",
       "      <td>278166</td>\n",
       "      <td>6355745</td>\n",
       "      <td>2019</td>\n",
       "      <td>Feb</td>\n",
       "      <td>2</td>\n",
       "      <td>12:50:00</td>\n",
       "      <td>465549</td>\n",
       "      <td>family album white picture frame</td>\n",
       "      <td>6</td>\n",
       "      <td>11.73</td>\n",
       "      <td>21.11</td>\n",
       "      <td>United Kingdom</td>\n",
       "      <td>['Senior', 'Solo Entrepreneur', '2-5 Year Clie...</td>\n",
       "      <td>2-Feb-2019</td>\n",
       "      <td>'Senior'</td>\n",
       "      <td>'Solo Entrepreneur'</td>\n",
       "      <td>'2-5 Year Client'</td>\n",
       "    </tr>\n",
       "    <tr>\n",
       "      <th>1</th>\n",
       "      <td>337701</td>\n",
       "      <td>6283376</td>\n",
       "      <td>2018</td>\n",
       "      <td>Dec</td>\n",
       "      <td>26</td>\n",
       "      <td>09:06:00</td>\n",
       "      <td>482370</td>\n",
       "      <td>london bus coffee mug</td>\n",
       "      <td>3</td>\n",
       "      <td>3.52</td>\n",
       "      <td>3.87</td>\n",
       "      <td>United Kingdom</td>\n",
       "      <td>['Middle Age', 'Corporation', '2-5 Year Client']</td>\n",
       "      <td>26-Dec-2018</td>\n",
       "      <td>'Middle Age'</td>\n",
       "      <td>'Corporation'</td>\n",
       "      <td>'2-5 Year Client'</td>\n",
       "    </tr>\n",
       "    <tr>\n",
       "      <th>2</th>\n",
       "      <td>267099</td>\n",
       "      <td>6385599</td>\n",
       "      <td>2019</td>\n",
       "      <td>Feb</td>\n",
       "      <td>15</td>\n",
       "      <td>09:45:00</td>\n",
       "      <td>490728</td>\n",
       "      <td>set 12 colour pencils dolly girl</td>\n",
       "      <td>72</td>\n",
       "      <td>0.90</td>\n",
       "      <td>1.62</td>\n",
       "      <td>France</td>\n",
       "      <td>['Middle Age', 'Corporation', '2-5 Year Client']</td>\n",
       "      <td>15-Feb-2019</td>\n",
       "      <td>'Middle Age'</td>\n",
       "      <td>'Corporation'</td>\n",
       "      <td>'2-5 Year Client'</td>\n",
       "    </tr>\n",
       "    <tr>\n",
       "      <th>3</th>\n",
       "      <td>380478</td>\n",
       "      <td>6044973</td>\n",
       "      <td>2018</td>\n",
       "      <td>Jun</td>\n",
       "      <td>22</td>\n",
       "      <td>07:14:00</td>\n",
       "      <td>459186</td>\n",
       "      <td>union jack flag luggage tag</td>\n",
       "      <td>3</td>\n",
       "      <td>1.73</td>\n",
       "      <td>1.90</td>\n",
       "      <td>United Kingdom</td>\n",
       "      <td>['Middle Age', 'Small Business', 'New Client']</td>\n",
       "      <td>22-Jun-2018</td>\n",
       "      <td>'Middle Age'</td>\n",
       "      <td>'Small Business'</td>\n",
       "      <td>'New Client'</td>\n",
       "    </tr>\n",
       "    <tr>\n",
       "      <th>4</th>\n",
       "      <td>-1</td>\n",
       "      <td>6143225</td>\n",
       "      <td>2018</td>\n",
       "      <td>Sep</td>\n",
       "      <td>10</td>\n",
       "      <td>11:58:00</td>\n",
       "      <td>1733592</td>\n",
       "      <td>washroom metal sign</td>\n",
       "      <td>3</td>\n",
       "      <td>3.40</td>\n",
       "      <td>5.78</td>\n",
       "      <td>United Kingdom</td>\n",
       "      <td>['Middle Age', 'Solo Entrepreneur', '2-5 Year ...</td>\n",
       "      <td>10-Sep-2018</td>\n",
       "      <td>'Middle Age'</td>\n",
       "      <td>'Solo Entrepreneur'</td>\n",
       "      <td>'2-5 Year Client'</td>\n",
       "    </tr>\n",
       "  </tbody>\n",
       "</table>\n",
       "</div>"
      ],
      "text/plain": [
       "   UserId  TransactionId  Year Month  Day      Time  ItemCode  \\\n",
       "0  278166        6355745  2019   Feb    2  12:50:00    465549   \n",
       "1  337701        6283376  2018   Dec   26  09:06:00    482370   \n",
       "2  267099        6385599  2019   Feb   15  09:45:00    490728   \n",
       "3  380478        6044973  2018   Jun   22  07:14:00    459186   \n",
       "4      -1        6143225  2018   Sep   10  11:58:00   1733592   \n",
       "\n",
       "                     ItemDescription  NumberOfItemsPurchased  CostPerItem  \\\n",
       "0   family album white picture frame                       6        11.73   \n",
       "1              london bus coffee mug                       3         3.52   \n",
       "2  set 12 colour pencils dolly girl                       72         0.90   \n",
       "3        union jack flag luggage tag                       3         1.73   \n",
       "4                washroom metal sign                       3         3.40   \n",
       "\n",
       "   SellingPricePerItem         Country  \\\n",
       "0                21.11  United Kingdom   \n",
       "1                 3.87  United Kingdom   \n",
       "2                 1.62          France   \n",
       "3                 1.90  United Kingdom   \n",
       "4                 5.78  United Kingdom   \n",
       "\n",
       "                                      ClientKeywords         Date  \\\n",
       "0  ['Senior', 'Solo Entrepreneur', '2-5 Year Clie...   2-Feb-2019   \n",
       "1   ['Middle Age', 'Corporation', '2-5 Year Client']  26-Dec-2018   \n",
       "2   ['Middle Age', 'Corporation', '2-5 Year Client']  15-Feb-2019   \n",
       "3     ['Middle Age', 'Small Business', 'New Client']  22-Jun-2018   \n",
       "4  ['Middle Age', 'Solo Entrepreneur', '2-5 Year ...  10-Sep-2018   \n",
       "\n",
       "      ClientAge            ClientType    LengthOfContract  \n",
       "0      'Senior'   'Solo Entrepreneur'   '2-5 Year Client'  \n",
       "1  'Middle Age'         'Corporation'   '2-5 Year Client'  \n",
       "2  'Middle Age'         'Corporation'   '2-5 Year Client'  \n",
       "3  'Middle Age'      'Small Business'        'New Client'  \n",
       "4  'Middle Age'   'Solo Entrepreneur'   '2-5 Year Client'  "
      ]
     },
     "execution_count": 20,
     "metadata": {},
     "output_type": "execute_result"
    }
   ],
   "source": [
    "data['ItemDescription'] = data['ItemDescription'].str.lower() \n",
    "data.head(5)"
   ]
  },
  {
   "cell_type": "markdown",
   "id": "2ca1d0c0",
   "metadata": {},
   "source": [
    " "
   ]
  },
  {
   "cell_type": "markdown",
   "id": "fc88d2c2",
   "metadata": {},
   "source": [
    " "
   ]
  },
  {
   "cell_type": "markdown",
   "id": "fe653b82",
   "metadata": {},
   "source": [
    "#### Mathematical Computations on Tableau\n",
    "\n",
    "In this step, we will perform some mathematical computations and add new columns to the data which will help us achieve our goal with the dashboard. The new columns to be added are:\n",
    "\n",
    "* **`CostPerTransaction`** this is calculated as: *CostPerTransaction = CostPerItem * NumberOfItemsPurchased*\n",
    "* **`SalesPerTransaction`** this is the same as *SellingPricePerTransaction* and calculated as: *SellingPricePerTransaction = SellingPricePerItem * NumberOfItemsPurchased*\n",
    "* **`ProfitPerTransaction`** this is calculated as: *ProfitPerTransaction = ProfitPerItem * NumberOfItemsPurchased*\n",
    "* **`Markup`** this is calculated as: *Markup = ProfitPerTransaction / CostPerTransaction*\n"
   ]
  },
  {
   "cell_type": "markdown",
   "id": "01c7d0b3",
   "metadata": {},
   "source": [
    "#### Working with Calculations\n",
    "\n",
    "We will perform the various mathematical computations and add the new columns for our dashboard building in Tableau"
   ]
  },
  {
   "cell_type": "markdown",
   "id": "29997c0a",
   "metadata": {},
   "source": [
    "##### Adding new columns to the dataframe"
   ]
  },
  {
   "cell_type": "code",
   "execution_count": 21,
   "id": "738046f9",
   "metadata": {},
   "outputs": [],
   "source": [
    "#Cost per transaction\n",
    "\n",
    "data['CostPerTransaction'] = data['CostPerItem'] * data['NumberOfItemsPurchased']"
   ]
  },
  {
   "cell_type": "code",
   "execution_count": 22,
   "id": "56d2a889",
   "metadata": {},
   "outputs": [],
   "source": [
    "#Sales per transaction\n",
    "\n",
    "data['SalesPerTransaction'] = data['SellingPricePerItem'] * data['NumberOfItemsPurchased']\n"
   ]
  },
  {
   "cell_type": "code",
   "execution_count": 23,
   "id": "376d1a9e",
   "metadata": {},
   "outputs": [],
   "source": [
    "#Profit per transaction\n",
    "\n",
    "data['ProfitPerTransaction'] = data['SalesPerTransaction'] - data['CostPerTransaction']\n"
   ]
  },
  {
   "cell_type": "code",
   "execution_count": 24,
   "id": "c7b8e1ce",
   "metadata": {},
   "outputs": [],
   "source": [
    "#Markup calculation = (sales-cost)/cost = profit/cost\n",
    "\n",
    "data['Markup'] = data['ProfitPerTransaction']/data['CostPerTransaction']\n"
   ]
  },
  {
   "cell_type": "code",
   "execution_count": 25,
   "id": "d1339a26",
   "metadata": {},
   "outputs": [
    {
     "data": {
      "text/html": [
       "<div>\n",
       "<style scoped>\n",
       "    .dataframe tbody tr th:only-of-type {\n",
       "        vertical-align: middle;\n",
       "    }\n",
       "\n",
       "    .dataframe tbody tr th {\n",
       "        vertical-align: top;\n",
       "    }\n",
       "\n",
       "    .dataframe thead th {\n",
       "        text-align: right;\n",
       "    }\n",
       "</style>\n",
       "<table border=\"1\" class=\"dataframe\">\n",
       "  <thead>\n",
       "    <tr style=\"text-align: right;\">\n",
       "      <th></th>\n",
       "      <th>UserId</th>\n",
       "      <th>TransactionId</th>\n",
       "      <th>Year</th>\n",
       "      <th>Month</th>\n",
       "      <th>Day</th>\n",
       "      <th>Time</th>\n",
       "      <th>ItemCode</th>\n",
       "      <th>ItemDescription</th>\n",
       "      <th>NumberOfItemsPurchased</th>\n",
       "      <th>CostPerItem</th>\n",
       "      <th>...</th>\n",
       "      <th>Country</th>\n",
       "      <th>ClientKeywords</th>\n",
       "      <th>Date</th>\n",
       "      <th>ClientAge</th>\n",
       "      <th>ClientType</th>\n",
       "      <th>LengthOfContract</th>\n",
       "      <th>CostPerTransaction</th>\n",
       "      <th>SalesPerTransaction</th>\n",
       "      <th>ProfitPerTransaction</th>\n",
       "      <th>Markup</th>\n",
       "    </tr>\n",
       "  </thead>\n",
       "  <tbody>\n",
       "    <tr>\n",
       "      <th>0</th>\n",
       "      <td>278166</td>\n",
       "      <td>6355745</td>\n",
       "      <td>2019</td>\n",
       "      <td>Feb</td>\n",
       "      <td>2</td>\n",
       "      <td>12:50:00</td>\n",
       "      <td>465549</td>\n",
       "      <td>family album white picture frame</td>\n",
       "      <td>6</td>\n",
       "      <td>11.73</td>\n",
       "      <td>...</td>\n",
       "      <td>United Kingdom</td>\n",
       "      <td>['Senior', 'Solo Entrepreneur', '2-5 Year Clie...</td>\n",
       "      <td>2-Feb-2019</td>\n",
       "      <td>'Senior'</td>\n",
       "      <td>'Solo Entrepreneur'</td>\n",
       "      <td>'2-5 Year Client'</td>\n",
       "      <td>70.38</td>\n",
       "      <td>126.66</td>\n",
       "      <td>56.28</td>\n",
       "      <td>0.799659</td>\n",
       "    </tr>\n",
       "    <tr>\n",
       "      <th>1</th>\n",
       "      <td>337701</td>\n",
       "      <td>6283376</td>\n",
       "      <td>2018</td>\n",
       "      <td>Dec</td>\n",
       "      <td>26</td>\n",
       "      <td>09:06:00</td>\n",
       "      <td>482370</td>\n",
       "      <td>london bus coffee mug</td>\n",
       "      <td>3</td>\n",
       "      <td>3.52</td>\n",
       "      <td>...</td>\n",
       "      <td>United Kingdom</td>\n",
       "      <td>['Middle Age', 'Corporation', '2-5 Year Client']</td>\n",
       "      <td>26-Dec-2018</td>\n",
       "      <td>'Middle Age'</td>\n",
       "      <td>'Corporation'</td>\n",
       "      <td>'2-5 Year Client'</td>\n",
       "      <td>10.56</td>\n",
       "      <td>11.61</td>\n",
       "      <td>1.05</td>\n",
       "      <td>0.099432</td>\n",
       "    </tr>\n",
       "  </tbody>\n",
       "</table>\n",
       "<p>2 rows × 21 columns</p>\n",
       "</div>"
      ],
      "text/plain": [
       "   UserId  TransactionId  Year Month  Day      Time  ItemCode  \\\n",
       "0  278166        6355745  2019   Feb    2  12:50:00    465549   \n",
       "1  337701        6283376  2018   Dec   26  09:06:00    482370   \n",
       "\n",
       "                    ItemDescription  NumberOfItemsPurchased  CostPerItem  ...  \\\n",
       "0  family album white picture frame                       6        11.73  ...   \n",
       "1             london bus coffee mug                       3         3.52  ...   \n",
       "\n",
       "          Country                                     ClientKeywords  \\\n",
       "0  United Kingdom  ['Senior', 'Solo Entrepreneur', '2-5 Year Clie...   \n",
       "1  United Kingdom   ['Middle Age', 'Corporation', '2-5 Year Client']   \n",
       "\n",
       "          Date     ClientAge            ClientType    LengthOfContract  \\\n",
       "0   2-Feb-2019      'Senior'   'Solo Entrepreneur'   '2-5 Year Client'   \n",
       "1  26-Dec-2018  'Middle Age'         'Corporation'   '2-5 Year Client'   \n",
       "\n",
       "  CostPerTransaction  SalesPerTransaction  ProfitPerTransaction    Markup  \n",
       "0              70.38               126.66                 56.28  0.799659  \n",
       "1              10.56                11.61                  1.05  0.099432  \n",
       "\n",
       "[2 rows x 21 columns]"
      ]
     },
     "execution_count": 25,
     "metadata": {},
     "output_type": "execute_result"
    }
   ],
   "source": [
    "# having a glimpse of the data\n",
    "\n",
    "data.head(2)"
   ]
  },
  {
   "cell_type": "markdown",
   "id": "5905c72e",
   "metadata": {},
   "source": [
    "> The Markup values have too many decimal values. Hence we will need to round it to just two decimals to enhace further calculations."
   ]
  },
  {
   "cell_type": "code",
   "execution_count": 26,
   "id": "f36f8b93",
   "metadata": {},
   "outputs": [],
   "source": [
    "#Rounding up markup values\n",
    "data['Markup'] = round(data['Markup'], 2)"
   ]
  },
  {
   "cell_type": "code",
   "execution_count": 27,
   "id": "f65598bc",
   "metadata": {},
   "outputs": [
    {
     "data": {
      "text/html": [
       "<div>\n",
       "<style scoped>\n",
       "    .dataframe tbody tr th:only-of-type {\n",
       "        vertical-align: middle;\n",
       "    }\n",
       "\n",
       "    .dataframe tbody tr th {\n",
       "        vertical-align: top;\n",
       "    }\n",
       "\n",
       "    .dataframe thead th {\n",
       "        text-align: right;\n",
       "    }\n",
       "</style>\n",
       "<table border=\"1\" class=\"dataframe\">\n",
       "  <thead>\n",
       "    <tr style=\"text-align: right;\">\n",
       "      <th></th>\n",
       "      <th>UserId</th>\n",
       "      <th>TransactionId</th>\n",
       "      <th>Year</th>\n",
       "      <th>Month</th>\n",
       "      <th>Day</th>\n",
       "      <th>Time</th>\n",
       "      <th>ItemCode</th>\n",
       "      <th>ItemDescription</th>\n",
       "      <th>NumberOfItemsPurchased</th>\n",
       "      <th>CostPerItem</th>\n",
       "      <th>...</th>\n",
       "      <th>Country</th>\n",
       "      <th>ClientKeywords</th>\n",
       "      <th>Date</th>\n",
       "      <th>ClientAge</th>\n",
       "      <th>ClientType</th>\n",
       "      <th>LengthOfContract</th>\n",
       "      <th>CostPerTransaction</th>\n",
       "      <th>SalesPerTransaction</th>\n",
       "      <th>ProfitPerTransaction</th>\n",
       "      <th>Markup</th>\n",
       "    </tr>\n",
       "  </thead>\n",
       "  <tbody>\n",
       "    <tr>\n",
       "      <th>0</th>\n",
       "      <td>278166</td>\n",
       "      <td>6355745</td>\n",
       "      <td>2019</td>\n",
       "      <td>Feb</td>\n",
       "      <td>2</td>\n",
       "      <td>12:50:00</td>\n",
       "      <td>465549</td>\n",
       "      <td>family album white picture frame</td>\n",
       "      <td>6</td>\n",
       "      <td>11.73</td>\n",
       "      <td>...</td>\n",
       "      <td>United Kingdom</td>\n",
       "      <td>['Senior', 'Solo Entrepreneur', '2-5 Year Clie...</td>\n",
       "      <td>2-Feb-2019</td>\n",
       "      <td>'Senior'</td>\n",
       "      <td>'Solo Entrepreneur'</td>\n",
       "      <td>'2-5 Year Client'</td>\n",
       "      <td>70.38</td>\n",
       "      <td>126.66</td>\n",
       "      <td>56.28</td>\n",
       "      <td>0.8</td>\n",
       "    </tr>\n",
       "    <tr>\n",
       "      <th>1</th>\n",
       "      <td>337701</td>\n",
       "      <td>6283376</td>\n",
       "      <td>2018</td>\n",
       "      <td>Dec</td>\n",
       "      <td>26</td>\n",
       "      <td>09:06:00</td>\n",
       "      <td>482370</td>\n",
       "      <td>london bus coffee mug</td>\n",
       "      <td>3</td>\n",
       "      <td>3.52</td>\n",
       "      <td>...</td>\n",
       "      <td>United Kingdom</td>\n",
       "      <td>['Middle Age', 'Corporation', '2-5 Year Client']</td>\n",
       "      <td>26-Dec-2018</td>\n",
       "      <td>'Middle Age'</td>\n",
       "      <td>'Corporation'</td>\n",
       "      <td>'2-5 Year Client'</td>\n",
       "      <td>10.56</td>\n",
       "      <td>11.61</td>\n",
       "      <td>1.05</td>\n",
       "      <td>0.1</td>\n",
       "    </tr>\n",
       "  </tbody>\n",
       "</table>\n",
       "<p>2 rows × 21 columns</p>\n",
       "</div>"
      ],
      "text/plain": [
       "   UserId  TransactionId  Year Month  Day      Time  ItemCode  \\\n",
       "0  278166        6355745  2019   Feb    2  12:50:00    465549   \n",
       "1  337701        6283376  2018   Dec   26  09:06:00    482370   \n",
       "\n",
       "                    ItemDescription  NumberOfItemsPurchased  CostPerItem  ...  \\\n",
       "0  family album white picture frame                       6        11.73  ...   \n",
       "1             london bus coffee mug                       3         3.52  ...   \n",
       "\n",
       "          Country                                     ClientKeywords  \\\n",
       "0  United Kingdom  ['Senior', 'Solo Entrepreneur', '2-5 Year Clie...   \n",
       "1  United Kingdom   ['Middle Age', 'Corporation', '2-5 Year Client']   \n",
       "\n",
       "          Date     ClientAge            ClientType    LengthOfContract  \\\n",
       "0   2-Feb-2019      'Senior'   'Solo Entrepreneur'   '2-5 Year Client'   \n",
       "1  26-Dec-2018  'Middle Age'         'Corporation'   '2-5 Year Client'   \n",
       "\n",
       "  CostPerTransaction  SalesPerTransaction  ProfitPerTransaction  Markup  \n",
       "0              70.38               126.66                 56.28     0.8  \n",
       "1              10.56                11.61                  1.05     0.1  \n",
       "\n",
       "[2 rows x 21 columns]"
      ]
     },
     "execution_count": 27,
     "metadata": {},
     "output_type": "execute_result"
    }
   ],
   "source": [
    "# having a glimpse of the data\n",
    "\n",
    "data.head(2)"
   ]
  },
  {
   "cell_type": "code",
   "execution_count": 28,
   "id": "22ae06ab",
   "metadata": {},
   "outputs": [
    {
     "name": "stdout",
     "output_type": "stream",
     "text": [
      "<class 'pandas.core.frame.DataFrame'>\n",
      "Int64Index: 1042417 entries, 0 to 1047587\n",
      "Data columns (total 21 columns):\n",
      " #   Column                  Non-Null Count    Dtype  \n",
      "---  ------                  --------------    -----  \n",
      " 0   UserId                  1042417 non-null  int32  \n",
      " 1   TransactionId           1042417 non-null  int32  \n",
      " 2   Year                    1042417 non-null  int32  \n",
      " 3   Month                   1042417 non-null  object \n",
      " 4   Day                     1042417 non-null  int32  \n",
      " 5   Time                    1042417 non-null  object \n",
      " 6   ItemCode                1042417 non-null  int32  \n",
      " 7   ItemDescription         1042417 non-null  object \n",
      " 8   NumberOfItemsPurchased  1042417 non-null  int32  \n",
      " 9   CostPerItem             1042417 non-null  float64\n",
      " 10  SellingPricePerItem     1042417 non-null  float64\n",
      " 11  Country                 1042417 non-null  object \n",
      " 12  ClientKeywords          1042417 non-null  object \n",
      " 13  Date                    1042417 non-null  object \n",
      " 14  ClientAge               1042417 non-null  object \n",
      " 15  ClientType              1042417 non-null  object \n",
      " 16  LengthOfContract        1042417 non-null  object \n",
      " 17  CostPerTransaction      1042417 non-null  float64\n",
      " 18  SalesPerTransaction     1042417 non-null  float64\n",
      " 19  ProfitPerTransaction    1042417 non-null  float64\n",
      " 20  Markup                  1040367 non-null  float64\n",
      "dtypes: float64(6), int32(6), object(9)\n",
      "memory usage: 151.1+ MB\n"
     ]
    }
   ],
   "source": [
    "#final inspection of data \n",
    "data.info()"
   ]
  },
  {
   "cell_type": "code",
   "execution_count": null,
   "id": "aa044642",
   "metadata": {},
   "outputs": [],
   "source": []
  },
  {
   "cell_type": "markdown",
   "id": "dcc3f41c",
   "metadata": {},
   "source": [
    "#### Merging Datasets"
   ]
  },
  {
   "cell_type": "markdown",
   "id": "20e60f6e",
   "metadata": {},
   "source": [
    "At this point, we will merge the transaction data with the season data to obtain one dataset for our dashboard building."
   ]
  },
  {
   "cell_type": "code",
   "execution_count": 29,
   "id": "18407cc5",
   "metadata": {},
   "outputs": [
    {
     "data": {
      "text/html": [
       "<div>\n",
       "<style scoped>\n",
       "    .dataframe tbody tr th:only-of-type {\n",
       "        vertical-align: middle;\n",
       "    }\n",
       "\n",
       "    .dataframe tbody tr th {\n",
       "        vertical-align: top;\n",
       "    }\n",
       "\n",
       "    .dataframe thead th {\n",
       "        text-align: right;\n",
       "    }\n",
       "</style>\n",
       "<table border=\"1\" class=\"dataframe\">\n",
       "  <thead>\n",
       "    <tr style=\"text-align: right;\">\n",
       "      <th></th>\n",
       "      <th>UserId</th>\n",
       "      <th>TransactionId</th>\n",
       "      <th>Year</th>\n",
       "      <th>Month</th>\n",
       "      <th>Day</th>\n",
       "      <th>Time</th>\n",
       "      <th>ItemCode</th>\n",
       "      <th>ItemDescription</th>\n",
       "      <th>NumberOfItemsPurchased</th>\n",
       "      <th>CostPerItem</th>\n",
       "      <th>...</th>\n",
       "      <th>Country</th>\n",
       "      <th>ClientKeywords</th>\n",
       "      <th>Date</th>\n",
       "      <th>ClientAge</th>\n",
       "      <th>ClientType</th>\n",
       "      <th>LengthOfContract</th>\n",
       "      <th>CostPerTransaction</th>\n",
       "      <th>SalesPerTransaction</th>\n",
       "      <th>ProfitPerTransaction</th>\n",
       "      <th>Markup</th>\n",
       "    </tr>\n",
       "  </thead>\n",
       "  <tbody>\n",
       "    <tr>\n",
       "      <th>0</th>\n",
       "      <td>278166</td>\n",
       "      <td>6355745</td>\n",
       "      <td>2019</td>\n",
       "      <td>Feb</td>\n",
       "      <td>2</td>\n",
       "      <td>12:50:00</td>\n",
       "      <td>465549</td>\n",
       "      <td>family album white picture frame</td>\n",
       "      <td>6</td>\n",
       "      <td>11.73</td>\n",
       "      <td>...</td>\n",
       "      <td>United Kingdom</td>\n",
       "      <td>['Senior', 'Solo Entrepreneur', '2-5 Year Clie...</td>\n",
       "      <td>2-Feb-2019</td>\n",
       "      <td>'Senior'</td>\n",
       "      <td>'Solo Entrepreneur'</td>\n",
       "      <td>'2-5 Year Client'</td>\n",
       "      <td>70.38</td>\n",
       "      <td>126.66</td>\n",
       "      <td>56.28</td>\n",
       "      <td>0.8</td>\n",
       "    </tr>\n",
       "    <tr>\n",
       "      <th>1</th>\n",
       "      <td>337701</td>\n",
       "      <td>6283376</td>\n",
       "      <td>2018</td>\n",
       "      <td>Dec</td>\n",
       "      <td>26</td>\n",
       "      <td>09:06:00</td>\n",
       "      <td>482370</td>\n",
       "      <td>london bus coffee mug</td>\n",
       "      <td>3</td>\n",
       "      <td>3.52</td>\n",
       "      <td>...</td>\n",
       "      <td>United Kingdom</td>\n",
       "      <td>['Middle Age', 'Corporation', '2-5 Year Client']</td>\n",
       "      <td>26-Dec-2018</td>\n",
       "      <td>'Middle Age'</td>\n",
       "      <td>'Corporation'</td>\n",
       "      <td>'2-5 Year Client'</td>\n",
       "      <td>10.56</td>\n",
       "      <td>11.61</td>\n",
       "      <td>1.05</td>\n",
       "      <td>0.1</td>\n",
       "    </tr>\n",
       "    <tr>\n",
       "      <th>2</th>\n",
       "      <td>267099</td>\n",
       "      <td>6385599</td>\n",
       "      <td>2019</td>\n",
       "      <td>Feb</td>\n",
       "      <td>15</td>\n",
       "      <td>09:45:00</td>\n",
       "      <td>490728</td>\n",
       "      <td>set 12 colour pencils dolly girl</td>\n",
       "      <td>72</td>\n",
       "      <td>0.90</td>\n",
       "      <td>...</td>\n",
       "      <td>France</td>\n",
       "      <td>['Middle Age', 'Corporation', '2-5 Year Client']</td>\n",
       "      <td>15-Feb-2019</td>\n",
       "      <td>'Middle Age'</td>\n",
       "      <td>'Corporation'</td>\n",
       "      <td>'2-5 Year Client'</td>\n",
       "      <td>64.80</td>\n",
       "      <td>116.64</td>\n",
       "      <td>51.84</td>\n",
       "      <td>0.8</td>\n",
       "    </tr>\n",
       "    <tr>\n",
       "      <th>3</th>\n",
       "      <td>380478</td>\n",
       "      <td>6044973</td>\n",
       "      <td>2018</td>\n",
       "      <td>Jun</td>\n",
       "      <td>22</td>\n",
       "      <td>07:14:00</td>\n",
       "      <td>459186</td>\n",
       "      <td>union jack flag luggage tag</td>\n",
       "      <td>3</td>\n",
       "      <td>1.73</td>\n",
       "      <td>...</td>\n",
       "      <td>United Kingdom</td>\n",
       "      <td>['Middle Age', 'Small Business', 'New Client']</td>\n",
       "      <td>22-Jun-2018</td>\n",
       "      <td>'Middle Age'</td>\n",
       "      <td>'Small Business'</td>\n",
       "      <td>'New Client'</td>\n",
       "      <td>5.19</td>\n",
       "      <td>5.70</td>\n",
       "      <td>0.51</td>\n",
       "      <td>0.1</td>\n",
       "    </tr>\n",
       "  </tbody>\n",
       "</table>\n",
       "<p>4 rows × 21 columns</p>\n",
       "</div>"
      ],
      "text/plain": [
       "   UserId  TransactionId  Year Month  Day      Time  ItemCode  \\\n",
       "0  278166        6355745  2019   Feb    2  12:50:00    465549   \n",
       "1  337701        6283376  2018   Dec   26  09:06:00    482370   \n",
       "2  267099        6385599  2019   Feb   15  09:45:00    490728   \n",
       "3  380478        6044973  2018   Jun   22  07:14:00    459186   \n",
       "\n",
       "                     ItemDescription  NumberOfItemsPurchased  CostPerItem  \\\n",
       "0   family album white picture frame                       6        11.73   \n",
       "1              london bus coffee mug                       3         3.52   \n",
       "2  set 12 colour pencils dolly girl                       72         0.90   \n",
       "3        union jack flag luggage tag                       3         1.73   \n",
       "\n",
       "   ...         Country                                     ClientKeywords  \\\n",
       "0  ...  United Kingdom  ['Senior', 'Solo Entrepreneur', '2-5 Year Clie...   \n",
       "1  ...  United Kingdom   ['Middle Age', 'Corporation', '2-5 Year Client']   \n",
       "2  ...          France   ['Middle Age', 'Corporation', '2-5 Year Client']   \n",
       "3  ...  United Kingdom     ['Middle Age', 'Small Business', 'New Client']   \n",
       "\n",
       "          Date     ClientAge            ClientType    LengthOfContract  \\\n",
       "0   2-Feb-2019      'Senior'   'Solo Entrepreneur'   '2-5 Year Client'   \n",
       "1  26-Dec-2018  'Middle Age'         'Corporation'   '2-5 Year Client'   \n",
       "2  15-Feb-2019  'Middle Age'         'Corporation'   '2-5 Year Client'   \n",
       "3  22-Jun-2018  'Middle Age'      'Small Business'        'New Client'   \n",
       "\n",
       "  CostPerTransaction  SalesPerTransaction  ProfitPerTransaction  Markup  \n",
       "0              70.38               126.66                 56.28     0.8  \n",
       "1              10.56                11.61                  1.05     0.1  \n",
       "2              64.80               116.64                 51.84     0.8  \n",
       "3               5.19                 5.70                  0.51     0.1  \n",
       "\n",
       "[4 rows x 21 columns]"
      ]
     },
     "execution_count": 29,
     "metadata": {},
     "output_type": "execute_result"
    }
   ],
   "source": [
    "#having a glimpse of data\n",
    "\n",
    "data.head(4)"
   ]
  },
  {
   "cell_type": "markdown",
   "id": "0a3beab6",
   "metadata": {},
   "source": [
    " "
   ]
  },
  {
   "cell_type": "code",
   "execution_count": 30,
   "id": "2dcdc3c9",
   "metadata": {},
   "outputs": [
    {
     "data": {
      "text/html": [
       "<div>\n",
       "<style scoped>\n",
       "    .dataframe tbody tr th:only-of-type {\n",
       "        vertical-align: middle;\n",
       "    }\n",
       "\n",
       "    .dataframe tbody tr th {\n",
       "        vertical-align: top;\n",
       "    }\n",
       "\n",
       "    .dataframe thead th {\n",
       "        text-align: right;\n",
       "    }\n",
       "</style>\n",
       "<table border=\"1\" class=\"dataframe\">\n",
       "  <thead>\n",
       "    <tr style=\"text-align: right;\">\n",
       "      <th></th>\n",
       "      <th>Month</th>\n",
       "      <th>Season</th>\n",
       "    </tr>\n",
       "  </thead>\n",
       "  <tbody>\n",
       "    <tr>\n",
       "      <th>0</th>\n",
       "      <td>Jan</td>\n",
       "      <td>High</td>\n",
       "    </tr>\n",
       "    <tr>\n",
       "      <th>1</th>\n",
       "      <td>Feb</td>\n",
       "      <td>Mid</td>\n",
       "    </tr>\n",
       "    <tr>\n",
       "      <th>2</th>\n",
       "      <td>Mar</td>\n",
       "      <td>Low</td>\n",
       "    </tr>\n",
       "    <tr>\n",
       "      <th>3</th>\n",
       "      <td>Apr</td>\n",
       "      <td>Low</td>\n",
       "    </tr>\n",
       "  </tbody>\n",
       "</table>\n",
       "</div>"
      ],
      "text/plain": [
       "  Month Season\n",
       "0   Jan   High\n",
       "1   Feb    Mid\n",
       "2   Mar    Low\n",
       "3   Apr    Low"
      ]
     },
     "execution_count": 30,
     "metadata": {},
     "output_type": "execute_result"
    }
   ],
   "source": [
    "#having a glimpse of data1\n",
    "\n",
    "data1.head(4)"
   ]
  },
  {
   "cell_type": "markdown",
   "id": "c7c0ba57",
   "metadata": {},
   "source": [
    " "
   ]
  },
  {
   "cell_type": "markdown",
   "id": "79832584",
   "metadata": {},
   "source": [
    "   "
   ]
  },
  {
   "cell_type": "code",
   "execution_count": 31,
   "id": "cfe3bebf",
   "metadata": {},
   "outputs": [],
   "source": [
    "#merging the two dataframes\n",
    "\n",
    "data_final = data.merge(data1,on='Month')"
   ]
  },
  {
   "cell_type": "code",
   "execution_count": 32,
   "id": "774a4c61",
   "metadata": {
    "scrolled": true
   },
   "outputs": [
    {
     "data": {
      "text/html": [
       "<div>\n",
       "<style scoped>\n",
       "    .dataframe tbody tr th:only-of-type {\n",
       "        vertical-align: middle;\n",
       "    }\n",
       "\n",
       "    .dataframe tbody tr th {\n",
       "        vertical-align: top;\n",
       "    }\n",
       "\n",
       "    .dataframe thead th {\n",
       "        text-align: right;\n",
       "    }\n",
       "</style>\n",
       "<table border=\"1\" class=\"dataframe\">\n",
       "  <thead>\n",
       "    <tr style=\"text-align: right;\">\n",
       "      <th></th>\n",
       "      <th>UserId</th>\n",
       "      <th>TransactionId</th>\n",
       "      <th>Year</th>\n",
       "      <th>Month</th>\n",
       "      <th>Day</th>\n",
       "      <th>Time</th>\n",
       "      <th>ItemCode</th>\n",
       "      <th>ItemDescription</th>\n",
       "      <th>NumberOfItemsPurchased</th>\n",
       "      <th>CostPerItem</th>\n",
       "      <th>...</th>\n",
       "      <th>ClientKeywords</th>\n",
       "      <th>Date</th>\n",
       "      <th>ClientAge</th>\n",
       "      <th>ClientType</th>\n",
       "      <th>LengthOfContract</th>\n",
       "      <th>CostPerTransaction</th>\n",
       "      <th>SalesPerTransaction</th>\n",
       "      <th>ProfitPerTransaction</th>\n",
       "      <th>Markup</th>\n",
       "      <th>Season</th>\n",
       "    </tr>\n",
       "  </thead>\n",
       "  <tbody>\n",
       "    <tr>\n",
       "      <th>0</th>\n",
       "      <td>278166</td>\n",
       "      <td>6355745</td>\n",
       "      <td>2019</td>\n",
       "      <td>Feb</td>\n",
       "      <td>2</td>\n",
       "      <td>12:50:00</td>\n",
       "      <td>465549</td>\n",
       "      <td>family album white picture frame</td>\n",
       "      <td>6</td>\n",
       "      <td>11.73</td>\n",
       "      <td>...</td>\n",
       "      <td>['Senior', 'Solo Entrepreneur', '2-5 Year Clie...</td>\n",
       "      <td>2-Feb-2019</td>\n",
       "      <td>'Senior'</td>\n",
       "      <td>'Solo Entrepreneur'</td>\n",
       "      <td>'2-5 Year Client'</td>\n",
       "      <td>70.38</td>\n",
       "      <td>126.66</td>\n",
       "      <td>56.28</td>\n",
       "      <td>0.8</td>\n",
       "      <td>Mid</td>\n",
       "    </tr>\n",
       "    <tr>\n",
       "      <th>1</th>\n",
       "      <td>267099</td>\n",
       "      <td>6385599</td>\n",
       "      <td>2019</td>\n",
       "      <td>Feb</td>\n",
       "      <td>15</td>\n",
       "      <td>09:45:00</td>\n",
       "      <td>490728</td>\n",
       "      <td>set 12 colour pencils dolly girl</td>\n",
       "      <td>72</td>\n",
       "      <td>0.90</td>\n",
       "      <td>...</td>\n",
       "      <td>['Middle Age', 'Corporation', '2-5 Year Client']</td>\n",
       "      <td>15-Feb-2019</td>\n",
       "      <td>'Middle Age'</td>\n",
       "      <td>'Corporation'</td>\n",
       "      <td>'2-5 Year Client'</td>\n",
       "      <td>64.80</td>\n",
       "      <td>116.64</td>\n",
       "      <td>51.84</td>\n",
       "      <td>0.8</td>\n",
       "      <td>Mid</td>\n",
       "    </tr>\n",
       "    <tr>\n",
       "      <th>2</th>\n",
       "      <td>328440</td>\n",
       "      <td>6387425</td>\n",
       "      <td>2019</td>\n",
       "      <td>Feb</td>\n",
       "      <td>16</td>\n",
       "      <td>10:35:00</td>\n",
       "      <td>494802</td>\n",
       "      <td>set of 6 ribbons perfectly pretty</td>\n",
       "      <td>36</td>\n",
       "      <td>3.99</td>\n",
       "      <td>...</td>\n",
       "      <td>['Adult', 'Small Business', 'New Client']</td>\n",
       "      <td>16-Feb-2019</td>\n",
       "      <td>'Adult'</td>\n",
       "      <td>'Small Business'</td>\n",
       "      <td>'New Client'</td>\n",
       "      <td>143.64</td>\n",
       "      <td>201.24</td>\n",
       "      <td>57.60</td>\n",
       "      <td>0.4</td>\n",
       "      <td>Mid</td>\n",
       "    </tr>\n",
       "    <tr>\n",
       "      <th>3</th>\n",
       "      <td>364791</td>\n",
       "      <td>6358242</td>\n",
       "      <td>2019</td>\n",
       "      <td>Feb</td>\n",
       "      <td>3</td>\n",
       "      <td>09:25:00</td>\n",
       "      <td>486276</td>\n",
       "      <td>set of 5 mini grocery magnets</td>\n",
       "      <td>3</td>\n",
       "      <td>2.88</td>\n",
       "      <td>...</td>\n",
       "      <td>['Young Adult', 'Small Business', 'Loyal Client']</td>\n",
       "      <td>3-Feb-2019</td>\n",
       "      <td>'Young Adult'</td>\n",
       "      <td>'Small Business'</td>\n",
       "      <td>'Loyal Client'</td>\n",
       "      <td>8.64</td>\n",
       "      <td>11.22</td>\n",
       "      <td>2.58</td>\n",
       "      <td>0.3</td>\n",
       "      <td>Mid</td>\n",
       "    </tr>\n",
       "    <tr>\n",
       "      <th>4</th>\n",
       "      <td>-1</td>\n",
       "      <td>6388019</td>\n",
       "      <td>2019</td>\n",
       "      <td>Feb</td>\n",
       "      <td>16</td>\n",
       "      <td>13:24:00</td>\n",
       "      <td>490329</td>\n",
       "      <td>roll wrap vintage christmas</td>\n",
       "      <td>30</td>\n",
       "      <td>3.40</td>\n",
       "      <td>...</td>\n",
       "      <td>['Middle Age', 'Solo Entrepreneur', '2-5 Year ...</td>\n",
       "      <td>16-Feb-2019</td>\n",
       "      <td>'Middle Age'</td>\n",
       "      <td>'Solo Entrepreneur'</td>\n",
       "      <td>'2-5 Year Client'</td>\n",
       "      <td>102.00</td>\n",
       "      <td>132.60</td>\n",
       "      <td>30.60</td>\n",
       "      <td>0.3</td>\n",
       "      <td>Mid</td>\n",
       "    </tr>\n",
       "  </tbody>\n",
       "</table>\n",
       "<p>5 rows × 22 columns</p>\n",
       "</div>"
      ],
      "text/plain": [
       "   UserId  TransactionId  Year Month  Day      Time  ItemCode  \\\n",
       "0  278166        6355745  2019   Feb    2  12:50:00    465549   \n",
       "1  267099        6385599  2019   Feb   15  09:45:00    490728   \n",
       "2  328440        6387425  2019   Feb   16  10:35:00    494802   \n",
       "3  364791        6358242  2019   Feb    3  09:25:00    486276   \n",
       "4      -1        6388019  2019   Feb   16  13:24:00    490329   \n",
       "\n",
       "                       ItemDescription  NumberOfItemsPurchased  CostPerItem  \\\n",
       "0     family album white picture frame                       6        11.73   \n",
       "1    set 12 colour pencils dolly girl                       72         0.90   \n",
       "2  set of 6 ribbons perfectly pretty                        36         3.99   \n",
       "3        set of 5 mini grocery magnets                       3         2.88   \n",
       "4          roll wrap vintage christmas                      30         3.40   \n",
       "\n",
       "   ...                                     ClientKeywords         Date  \\\n",
       "0  ...  ['Senior', 'Solo Entrepreneur', '2-5 Year Clie...   2-Feb-2019   \n",
       "1  ...   ['Middle Age', 'Corporation', '2-5 Year Client']  15-Feb-2019   \n",
       "2  ...          ['Adult', 'Small Business', 'New Client']  16-Feb-2019   \n",
       "3  ...  ['Young Adult', 'Small Business', 'Loyal Client']   3-Feb-2019   \n",
       "4  ...  ['Middle Age', 'Solo Entrepreneur', '2-5 Year ...  16-Feb-2019   \n",
       "\n",
       "       ClientAge            ClientType    LengthOfContract CostPerTransaction  \\\n",
       "0       'Senior'   'Solo Entrepreneur'   '2-5 Year Client'              70.38   \n",
       "1   'Middle Age'         'Corporation'   '2-5 Year Client'              64.80   \n",
       "2        'Adult'      'Small Business'        'New Client'             143.64   \n",
       "3  'Young Adult'      'Small Business'      'Loyal Client'               8.64   \n",
       "4   'Middle Age'   'Solo Entrepreneur'   '2-5 Year Client'             102.00   \n",
       "\n",
       "  SalesPerTransaction  ProfitPerTransaction  Markup  Season  \n",
       "0              126.66                 56.28     0.8     Mid  \n",
       "1              116.64                 51.84     0.8     Mid  \n",
       "2              201.24                 57.60     0.4     Mid  \n",
       "3               11.22                  2.58     0.3     Mid  \n",
       "4              132.60                 30.60     0.3     Mid  \n",
       "\n",
       "[5 rows x 22 columns]"
      ]
     },
     "execution_count": 32,
     "metadata": {},
     "output_type": "execute_result"
    }
   ],
   "source": [
    "data_final.head(5)"
   ]
  },
  {
   "cell_type": "markdown",
   "id": "942544de",
   "metadata": {},
   "source": [
    " "
   ]
  },
  {
   "cell_type": "markdown",
   "id": "7f773ef3",
   "metadata": {},
   "source": [
    "#### Dropping Unneeded Columns\n",
    "\n",
    "We highlighted during the data quality assessment that there are some columns that won't be needed for both our analysis and dashboard building. Therefore, we will have to drop those columns entirely."
   ]
  },
  {
   "cell_type": "code",
   "execution_count": 33,
   "id": "51bd6d78",
   "metadata": {},
   "outputs": [],
   "source": [
    "# We are dropping irrelevant columns.\n",
    "\n",
    "data_final = data_final.drop(columns=['ClientKeywords', 'Month', 'Year', 'Day'])"
   ]
  },
  {
   "cell_type": "code",
   "execution_count": 34,
   "id": "0dc19bf7",
   "metadata": {},
   "outputs": [
    {
     "data": {
      "text/html": [
       "<div>\n",
       "<style scoped>\n",
       "    .dataframe tbody tr th:only-of-type {\n",
       "        vertical-align: middle;\n",
       "    }\n",
       "\n",
       "    .dataframe tbody tr th {\n",
       "        vertical-align: top;\n",
       "    }\n",
       "\n",
       "    .dataframe thead th {\n",
       "        text-align: right;\n",
       "    }\n",
       "</style>\n",
       "<table border=\"1\" class=\"dataframe\">\n",
       "  <thead>\n",
       "    <tr style=\"text-align: right;\">\n",
       "      <th></th>\n",
       "      <th>UserId</th>\n",
       "      <th>TransactionId</th>\n",
       "      <th>Time</th>\n",
       "      <th>ItemCode</th>\n",
       "      <th>ItemDescription</th>\n",
       "      <th>NumberOfItemsPurchased</th>\n",
       "      <th>CostPerItem</th>\n",
       "      <th>SellingPricePerItem</th>\n",
       "      <th>Country</th>\n",
       "      <th>Date</th>\n",
       "      <th>ClientAge</th>\n",
       "      <th>ClientType</th>\n",
       "      <th>LengthOfContract</th>\n",
       "      <th>CostPerTransaction</th>\n",
       "      <th>SalesPerTransaction</th>\n",
       "      <th>ProfitPerTransaction</th>\n",
       "      <th>Markup</th>\n",
       "      <th>Season</th>\n",
       "    </tr>\n",
       "  </thead>\n",
       "  <tbody>\n",
       "    <tr>\n",
       "      <th>0</th>\n",
       "      <td>278166</td>\n",
       "      <td>6355745</td>\n",
       "      <td>12:50:00</td>\n",
       "      <td>465549</td>\n",
       "      <td>family album white picture frame</td>\n",
       "      <td>6</td>\n",
       "      <td>11.73</td>\n",
       "      <td>21.11</td>\n",
       "      <td>United Kingdom</td>\n",
       "      <td>2-Feb-2019</td>\n",
       "      <td>'Senior'</td>\n",
       "      <td>'Solo Entrepreneur'</td>\n",
       "      <td>'2-5 Year Client'</td>\n",
       "      <td>70.38</td>\n",
       "      <td>126.66</td>\n",
       "      <td>56.28</td>\n",
       "      <td>0.8</td>\n",
       "      <td>Mid</td>\n",
       "    </tr>\n",
       "    <tr>\n",
       "      <th>1</th>\n",
       "      <td>267099</td>\n",
       "      <td>6385599</td>\n",
       "      <td>09:45:00</td>\n",
       "      <td>490728</td>\n",
       "      <td>set 12 colour pencils dolly girl</td>\n",
       "      <td>72</td>\n",
       "      <td>0.90</td>\n",
       "      <td>1.62</td>\n",
       "      <td>France</td>\n",
       "      <td>15-Feb-2019</td>\n",
       "      <td>'Middle Age'</td>\n",
       "      <td>'Corporation'</td>\n",
       "      <td>'2-5 Year Client'</td>\n",
       "      <td>64.80</td>\n",
       "      <td>116.64</td>\n",
       "      <td>51.84</td>\n",
       "      <td>0.8</td>\n",
       "      <td>Mid</td>\n",
       "    </tr>\n",
       "    <tr>\n",
       "      <th>2</th>\n",
       "      <td>328440</td>\n",
       "      <td>6387425</td>\n",
       "      <td>10:35:00</td>\n",
       "      <td>494802</td>\n",
       "      <td>set of 6 ribbons perfectly pretty</td>\n",
       "      <td>36</td>\n",
       "      <td>3.99</td>\n",
       "      <td>5.59</td>\n",
       "      <td>United Kingdom</td>\n",
       "      <td>16-Feb-2019</td>\n",
       "      <td>'Adult'</td>\n",
       "      <td>'Small Business'</td>\n",
       "      <td>'New Client'</td>\n",
       "      <td>143.64</td>\n",
       "      <td>201.24</td>\n",
       "      <td>57.60</td>\n",
       "      <td>0.4</td>\n",
       "      <td>Mid</td>\n",
       "    </tr>\n",
       "    <tr>\n",
       "      <th>3</th>\n",
       "      <td>364791</td>\n",
       "      <td>6358242</td>\n",
       "      <td>09:25:00</td>\n",
       "      <td>486276</td>\n",
       "      <td>set of 5 mini grocery magnets</td>\n",
       "      <td>3</td>\n",
       "      <td>2.88</td>\n",
       "      <td>3.74</td>\n",
       "      <td>United Kingdom</td>\n",
       "      <td>3-Feb-2019</td>\n",
       "      <td>'Young Adult'</td>\n",
       "      <td>'Small Business'</td>\n",
       "      <td>'Loyal Client'</td>\n",
       "      <td>8.64</td>\n",
       "      <td>11.22</td>\n",
       "      <td>2.58</td>\n",
       "      <td>0.3</td>\n",
       "      <td>Mid</td>\n",
       "    </tr>\n",
       "    <tr>\n",
       "      <th>4</th>\n",
       "      <td>-1</td>\n",
       "      <td>6388019</td>\n",
       "      <td>13:24:00</td>\n",
       "      <td>490329</td>\n",
       "      <td>roll wrap vintage christmas</td>\n",
       "      <td>30</td>\n",
       "      <td>3.40</td>\n",
       "      <td>4.42</td>\n",
       "      <td>United Kingdom</td>\n",
       "      <td>16-Feb-2019</td>\n",
       "      <td>'Middle Age'</td>\n",
       "      <td>'Solo Entrepreneur'</td>\n",
       "      <td>'2-5 Year Client'</td>\n",
       "      <td>102.00</td>\n",
       "      <td>132.60</td>\n",
       "      <td>30.60</td>\n",
       "      <td>0.3</td>\n",
       "      <td>Mid</td>\n",
       "    </tr>\n",
       "  </tbody>\n",
       "</table>\n",
       "</div>"
      ],
      "text/plain": [
       "   UserId  TransactionId      Time  ItemCode  \\\n",
       "0  278166        6355745  12:50:00    465549   \n",
       "1  267099        6385599  09:45:00    490728   \n",
       "2  328440        6387425  10:35:00    494802   \n",
       "3  364791        6358242  09:25:00    486276   \n",
       "4      -1        6388019  13:24:00    490329   \n",
       "\n",
       "                       ItemDescription  NumberOfItemsPurchased  CostPerItem  \\\n",
       "0     family album white picture frame                       6        11.73   \n",
       "1    set 12 colour pencils dolly girl                       72         0.90   \n",
       "2  set of 6 ribbons perfectly pretty                        36         3.99   \n",
       "3        set of 5 mini grocery magnets                       3         2.88   \n",
       "4          roll wrap vintage christmas                      30         3.40   \n",
       "\n",
       "   SellingPricePerItem         Country         Date      ClientAge  \\\n",
       "0                21.11  United Kingdom   2-Feb-2019       'Senior'   \n",
       "1                 1.62          France  15-Feb-2019   'Middle Age'   \n",
       "2                 5.59  United Kingdom  16-Feb-2019        'Adult'   \n",
       "3                 3.74  United Kingdom   3-Feb-2019  'Young Adult'   \n",
       "4                 4.42  United Kingdom  16-Feb-2019   'Middle Age'   \n",
       "\n",
       "             ClientType    LengthOfContract  CostPerTransaction  \\\n",
       "0   'Solo Entrepreneur'   '2-5 Year Client'               70.38   \n",
       "1         'Corporation'   '2-5 Year Client'               64.80   \n",
       "2      'Small Business'        'New Client'              143.64   \n",
       "3      'Small Business'      'Loyal Client'                8.64   \n",
       "4   'Solo Entrepreneur'   '2-5 Year Client'              102.00   \n",
       "\n",
       "   SalesPerTransaction  ProfitPerTransaction  Markup Season  \n",
       "0               126.66                 56.28     0.8    Mid  \n",
       "1               116.64                 51.84     0.8    Mid  \n",
       "2               201.24                 57.60     0.4    Mid  \n",
       "3                11.22                  2.58     0.3    Mid  \n",
       "4               132.60                 30.60     0.3    Mid  "
      ]
     },
     "execution_count": 34,
     "metadata": {},
     "output_type": "execute_result"
    }
   ],
   "source": [
    "data_final.head(5)"
   ]
  },
  {
   "cell_type": "markdown",
   "id": "22cdb887",
   "metadata": {},
   "source": [
    " "
   ]
  },
  {
   "cell_type": "markdown",
   "id": "69d9f9e0",
   "metadata": {},
   "source": [
    " "
   ]
  },
  {
   "cell_type": "markdown",
   "id": "d6ac5519",
   "metadata": {},
   "source": [
    "## 3. Data Visualisation<a id='dv'></a>\n",
    "\n",
    "[Move Up](#mu)\n",
    "\n",
    "As stated earlier, we are going to build a dashboard to track the sales KPIs. We will export the processed data and load unto Tableau to build the dashboard."
   ]
  },
  {
   "cell_type": "code",
   "execution_count": 35,
   "id": "837ec008",
   "metadata": {},
   "outputs": [],
   "source": [
    "#export data to csv\n",
    "\n",
    "data_final.to_csv('ValueInc_Sales_Cleaned.csv', index=False)"
   ]
  },
  {
   "cell_type": "markdown",
   "id": "6df7fc38",
   "metadata": {},
   "source": [
    " "
   ]
  },
  {
   "cell_type": "markdown",
   "id": "b50a13a8",
   "metadata": {},
   "source": []
  },
  {
   "cell_type": "markdown",
   "id": "e682581a",
   "metadata": {},
   "source": [
    "## 4. References<a id='r'></a>\n",
    "\n",
    "[Move Up](#mu)"
   ]
  },
  {
   "cell_type": "markdown",
   "id": "f26c4485",
   "metadata": {},
   "source": [
    "* [Date File: transactions.csv](https://drive.google.com/file/d/1i6MQZmXUuqyqGjSGbsPrNKV-eJPAhx-U/view?usp=sharing)\n",
    "* [Value Inc Seasons Dataset](https://finch-groundhog-9245.squarespace.com/s/value_inc_seasons.csv)\n",
    "* [Value Inc. Logo](https://finch-groundhog-9245.squarespace.com/s/Value-Inc-Logo.png)"
   ]
  },
  {
   "cell_type": "markdown",
   "id": "debb73e7",
   "metadata": {},
   "source": [
    "Link to dashboard on Tableau: [Value Inc. Sales Dashboard](https://public.tableau.com/views/ValueInc_SalesDashboard_16894308550170/Dashboard1?:language=en-US&:display_count=n&:origin=viz_share_link)\n"
   ]
  }
 ],
 "metadata": {
  "kernelspec": {
   "display_name": "prac",
   "language": "python",
   "name": "python3"
  },
  "language_info": {
   "codemirror_mode": {
    "name": "ipython",
    "version": 3
   },
   "file_extension": ".py",
   "mimetype": "text/x-python",
   "name": "python",
   "nbconvert_exporter": "python",
   "pygments_lexer": "ipython3",
   "version": "3.9.7"
  }
 },
 "nbformat": 4,
 "nbformat_minor": 5
}
