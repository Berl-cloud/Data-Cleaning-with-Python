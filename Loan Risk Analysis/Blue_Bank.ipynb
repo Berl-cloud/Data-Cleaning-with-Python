{
 "cells": [
  {
   "attachments": {},
   "cell_type": "markdown",
   "id": "1e594e25",
   "metadata": {},
   "source": [
    "![Blue Bank](https://finch-groundhog-9245.squarespace.com/s/Blue-Bank-Logo.png \"Blue Bank\")"
   ]
  },
  {
   "cell_type": "markdown",
   "id": "ba967512",
   "metadata": {},
   "source": [
    "> **Project Title:** Loan Analysis<br>\n",
    "> **Project Owner:** Berlinda Anaman <br>\n",
    "> **Email:** Berlana.d@gmail.com <br>\n",
    "> **Github Profile:** https://github.com/berl-cloud<br>\n",
    "> **LinkedIn Profile:** http://www.linkedin.com/in/berlinda-anaman<br>\n",
    "> **Tableau Profile:** https://public.tableau.com/app/profile/berlinda.anaman"
   ]
  },
  {
   "cell_type": "markdown",
   "id": "c4888e45",
   "metadata": {},
   "source": [
    "## Table of Contents<a id='mu'></a>\n",
    "\n",
    "* [Business Problem Understanding](#bpu)\n",
    "    * [Problem Statement](#ps)\n",
    "    * [Project Goal](#pg)\n",
    "    * [Information Needed](#in)\n",
    "    * [Methodology](#my)\n",
    "* [Data Preparation](#dp)\n",
    "    * [Data Understanding](#du)\n",
    "    * [Data Quality Assessment](#dqa)\n",
    "       * [Loan Data](#ld)\n",
    "    * [Data Cleaning and Preprocessing](#dcp)\n",
    "* [Data Visualisation](#dv)\n",
    "* [References](#r)"
   ]
  },
  {
   "cell_type": "markdown",
   "id": "0f20081a",
   "metadata": {},
   "source": [
    "## 1. Business Problem Understanding<a id='bpu'></a>\n",
    "\n",
    "[Move Up](#mu)"
   ]
  },
  {
   "cell_type": "markdown",
   "id": "b25071a7",
   "metadata": {},
   "source": [
    "<p style=\"text-align:justify;\">The first step in approaching a data science problem is problem understanding. This step is very important since it allows us to know the kind of decisions we want to make, the information or data that will be needed to inform those decisions and finally, the kind of analysis that will be used to arrive at those decisions. In a nutshell, developing a mental model of the problem allows us to properly structure potentially relevant information needed to solve the problem.</p>"
   ]
  },
  {
   "cell_type": "markdown",
   "id": "72a7a3c4",
   "metadata": {},
   "source": [
    " "
   ]
  },
  {
   "cell_type": "markdown",
   "id": "33927774",
   "metadata": {},
   "source": [
    "### 1.1 Problem Statement <a id='ps'></a>\n",
    "\n",
    "Blue Bank, a US-based bank, is facing challenges in its loan department due to being understaffed. The bank supplies loans to individuals but lacks sufficient reporting on the riskiness of borrowers. To mitigate potential losses and improve decision-making, the bank aims to conduct a loan risk analysis to identify borrowers who may have difficulties paying back their loans. The analysis will be carried out using Python and visualized using Tableau to create a comprehensive and actionable report."
   ]
  },
  {
   "cell_type": "markdown",
   "id": "361d196d",
   "metadata": {},
   "source": [
    " "
   ]
  },
  {
   "cell_type": "markdown",
   "id": "e027cea1",
   "metadata": {},
   "source": [
    "### 1.2 Project Goal <a id='pg'></a>\n",
    "\n",
    "In this project,our main goal is to create a report on the riskiness of loan borrowers. We will build a Tableau dashboard to measure the following;\n",
    "\n",
    "* Average days with Credit Line.\n",
    "* Maximum Revolving Balance.\n",
    "* Maximum and Minimum Interest rates.\n",
    "* Average Debt to Income Ratio.\n",
    "* Total Number of Borrowers with the highest and lowest interest rates.\n",
    "* Total Number of Borrowers with the highest utilization rate. \n",
    "* Annual income range of borrowers.\n",
    "* Total Number of Borrowers with good or bad FICO Credit Scores."
   ]
  },
  {
   "cell_type": "markdown",
   "id": "238ad58c",
   "metadata": {},
   "source": [
    " "
   ]
  },
  {
   "cell_type": "markdown",
   "id": "0a6d796b",
   "metadata": {},
   "source": [
    "### 1.3 Information Needed <a id='in'></a>\n",
    "\n",
    "To complete the loan risk analysis and create a comprehensive report, the following data and information will be required:\n",
    "\n",
    "1. **Borrower Data:** A dataset containing historical information on borrowers, including credit scores, income, existing debts, loan amounts, purpose of loan, dept to income ratio, and loan status (e.g., fully paid, delinquent, default, etc.).\n",
    "\n",
    "2. **Loan Performance Data:** Data on the performance of past loans, including repayment behavior, delinquency rates, default rates, and any relevant indicators of loan success or failure.\n",
    "\n",
    "3. **Tableau Visualizations:** Tableau workbooks or interactive visualizations that present loan risk insights in a clear and intuitive manner.\n",
    "\n",
    "4. **Project Execution Steps:** A detailed outline of the steps taken to perform the loan risk analysis, including data preprocessing and visualization design."
   ]
  },
  {
   "cell_type": "markdown",
   "id": "0981f66f",
   "metadata": {},
   "source": [
    " "
   ]
  },
  {
   "cell_type": "markdown",
   "id": "03c30fbf",
   "metadata": {},
   "source": [
    " "
   ]
  },
  {
   "cell_type": "markdown",
   "id": "6bfae40c",
   "metadata": {},
   "source": [
    "### 1.4 Methodology <a id='my'></a>\n",
    "\n",
    "<p style=\"text-align:justify;\">The methodology that will be used for our project will largely depend on the goals we set out to achieve. The methodlogy framework below gives us a comprehensive guide on the methodology apparoach that will help us achieve our goals.</p>\n",
    "<br>\n",
    "<p style=\"text-align:center;font-weight:bold;font-size:20px\"> Methodology Framework</p>\n",
    "<br>\n",
    "<img src='https://artofdatablog.files.wordpress.com/2017/10/methodology-map.jpg' style=\"float:center;width:700px;\">\n",
    "\n",
    "Once we have the data, we would need to understand it, clean it and perform the analysis to generate insights."
   ]
  },
  {
   "cell_type": "markdown",
   "id": "1b29b2b8",
   "metadata": {},
   "source": [
    " "
   ]
  },
  {
   "cell_type": "markdown",
   "id": "e9bb62e8",
   "metadata": {},
   "source": [
    "  "
   ]
  },
  {
   "cell_type": "markdown",
   "id": "237a01f1",
   "metadata": {},
   "source": [
    "## 2. Data Preparation <a id='dp'></a>\n",
    "\n",
    "[Move Up](#mu)\n",
    "\n",
    "An understanding of the data coupled with problem understanding will help us in cleaning and preparing our data for analysis. It is usually rare to acquire a ready-to-use data for any analysis without some level of preparation. To prepare our data, we normally assess the quality of the data, cleanse, format, blend and sample the data since we may encounter various issues with columns in our data. These issues may include:\n",
    "\n",
    "* **`Missing values:`** meaning column values are incomplete\n",
    "* **`Incorrect data:`** meaning you see values not expected for the column name\n",
    "* **`Inconsistent values:`** meaning some values may fall outside the expected range\n",
    "* **`Duplicate values:`** meaning whether or not there are duplicate values\n",
    "* **`Inconsistent data type:`** meaning values entered in the columns may not be consistent with the column names\n",
    "\n",
    "To properly prepare our data for analysis, we will perform two important tasks which are;\n",
    "\n",
    "* Part I: Data Quality Assessment\n",
    "* Part II: Data Cleaning and Preprocessing "
   ]
  },
  {
   "cell_type": "markdown",
   "id": "6db73d1c",
   "metadata": {},
   "source": [
    " "
   ]
  },
  {
   "cell_type": "markdown",
   "id": "9c62f19a",
   "metadata": {},
   "source": [
    " "
   ]
  },
  {
   "cell_type": "markdown",
   "id": "d5528617",
   "metadata": {},
   "source": [
    "### 2.1 Data Understanding <a id='du'></a>\n",
    "\n",
    "**Description of Data Columns**\n",
    "\n",
    "Below are the various columns of the loan data and what they represent:\n",
    "\n",
    "* `credit.policy:` 1 if the customer meets the credit underwriting criteria of Blue Bank, and 0\n",
    "otherwise.\n",
    "* `purpose:` The purpose of the loan (takes values \"credit_card\", \"debt_consolidation\",\n",
    "\"educational\", \"major_purchase\", \"small_business\", and \"all_other\").\n",
    "* `int.rate:` The interest rate of the loan, as a proportion (a rate of 11% would be stored as 0.11).\n",
    "Borrowers judged by Blue Bank to be more risky are assigned higher interest rates.\n",
    "* `installment:` The monthly installments owed by the borrower if the loan is funded.\n",
    "* `log.annual.inc:` The natural log of the self-reported annual income of the borrower.\n",
    "* `dti:` The debt-to-income ratio of the borrower (amount of debt divided by annual income).\n",
    "    - `dti>1` then borrower has more debt than income.\n",
    "    - `dti<1` then borrower has more income than \n",
    "* `fico:` The FICO credit score of the borrower.\n",
    "    - 300 - 400: Very Poor\n",
    "    - 401 - 600: Poor\n",
    "    - 601 - 660: Fair\n",
    "    - 661 - 780: Good\n",
    "    - 781 - 850: Excellent\n",
    "* `days.with.cr.line:` The number of days the borrower has had a credit line.\n",
    "* `revol.bal:` The borrower's revolving balance (amount unpaid at the end of the credit card\n",
    "billing cycle).\n",
    "* `revol.util:` The borrower's revolving line utilization rate (the amount of the credit line used\n",
    "relative to total credit available).\n",
    "* `inq.last.6mths:` The borrower's number of inquiries by creditors in the last 6 months. (If there\n",
    "are a lot of inquiries, that’s an issue)\n",
    "* `delinq.2yrs:` The number of times the borrower had been 30+ days past due on a payment in\n",
    "the past 2 years.\n",
    "* `pub.rec:` The borrower's number of derogatory public records (bankruptcy filings, tax liens,\n",
    "or judgments)."
   ]
  },
  {
   "cell_type": "markdown",
   "id": "a04773f0",
   "metadata": {},
   "source": [
    " "
   ]
  },
  {
   "cell_type": "markdown",
   "id": "83900257",
   "metadata": {},
   "source": [
    "### 2.2 Data Quality Assessment <a id='dqa'></a>\n",
    "\n",
    "<p style=\"text-align:justify;\">The first task that we will perform under the data preparation step is initial assessment of the quality of data which will easily allow us to properly clean our data. We will use this section to write any code necesary for inspecting the dataset. Once completed, we will leave our report in the Data Quality Report Document.\n",
    "\n",
    "At the end of our inspection, we will provide a summary of all of our findings.</p>"
   ]
  },
  {
   "cell_type": "code",
   "execution_count": 1,
   "id": "8bba94b8",
   "metadata": {},
   "outputs": [],
   "source": [
    "# import libraries needed\n",
    "\n",
    "import json\n",
    "import pandas as pd\n",
    "import numpy as np\n",
    "import warnings\n",
    "\n",
    "\n",
    "warnings.filterwarnings('ignore')\n",
    "\n"
   ]
  },
  {
   "cell_type": "markdown",
   "id": "d84cd5c9",
   "metadata": {},
   "source": [
    " "
   ]
  },
  {
   "cell_type": "code",
   "execution_count": 2,
   "id": "0cbda77e",
   "metadata": {},
   "outputs": [],
   "source": [
    "# load json data\n",
    "\n",
    "json_file = open(\"..\\Data\\loan_data_json.json\")\n",
    "data = json.load(json_file)"
   ]
  },
  {
   "cell_type": "markdown",
   "id": "8e5254b0",
   "metadata": {},
   "source": [
    " "
   ]
  },
  {
   "cell_type": "code",
   "execution_count": 3,
   "id": "10b39c9a",
   "metadata": {},
   "outputs": [],
   "source": [
    "# transform to dataframe\n",
    "\n",
    "loan_data = pd.DataFrame(data)"
   ]
  },
  {
   "cell_type": "markdown",
   "id": "c7a5df14",
   "metadata": {},
   "source": [
    " "
   ]
  },
  {
   "cell_type": "markdown",
   "id": "cfd3a2ee",
   "metadata": {},
   "source": [
    "#### 2.2.1 Inspecting Loan Data <a id='ld'></a>"
   ]
  },
  {
   "cell_type": "markdown",
   "id": "d3068953",
   "metadata": {},
   "source": [
    "In this step we will inspect the loan data to get an overview of what the data entails and also assess the quality of the data and make all the possible recommendation for cleaning this data."
   ]
  },
  {
   "cell_type": "code",
   "execution_count": 4,
   "id": "c3cb668c",
   "metadata": {},
   "outputs": [
    {
     "data": {
      "text/html": [
       "<div>\n",
       "<style scoped>\n",
       "    .dataframe tbody tr th:only-of-type {\n",
       "        vertical-align: middle;\n",
       "    }\n",
       "\n",
       "    .dataframe tbody tr th {\n",
       "        vertical-align: top;\n",
       "    }\n",
       "\n",
       "    .dataframe thead th {\n",
       "        text-align: right;\n",
       "    }\n",
       "</style>\n",
       "<table border=\"1\" class=\"dataframe\">\n",
       "  <thead>\n",
       "    <tr style=\"text-align: right;\">\n",
       "      <th></th>\n",
       "      <th>credit.policy</th>\n",
       "      <th>purpose</th>\n",
       "      <th>int.rate</th>\n",
       "      <th>installment</th>\n",
       "      <th>log.annual.inc</th>\n",
       "      <th>dti</th>\n",
       "      <th>fico</th>\n",
       "      <th>days.with.cr.line</th>\n",
       "      <th>revol.bal</th>\n",
       "      <th>revol.util</th>\n",
       "      <th>inq.last.6mths</th>\n",
       "      <th>delinq.2yrs</th>\n",
       "      <th>pub.rec</th>\n",
       "      <th>not.fully.paid</th>\n",
       "    </tr>\n",
       "  </thead>\n",
       "  <tbody>\n",
       "    <tr>\n",
       "      <th>0</th>\n",
       "      <td>1</td>\n",
       "      <td>debt_consolidation</td>\n",
       "      <td>0.1189</td>\n",
       "      <td>829.10</td>\n",
       "      <td>11.350407</td>\n",
       "      <td>19.48</td>\n",
       "      <td>737</td>\n",
       "      <td>5639.958333</td>\n",
       "      <td>28854</td>\n",
       "      <td>52.1</td>\n",
       "      <td>0</td>\n",
       "      <td>0</td>\n",
       "      <td>0</td>\n",
       "      <td>0</td>\n",
       "    </tr>\n",
       "    <tr>\n",
       "      <th>1</th>\n",
       "      <td>1</td>\n",
       "      <td>credit_card</td>\n",
       "      <td>0.1071</td>\n",
       "      <td>228.22</td>\n",
       "      <td>11.082143</td>\n",
       "      <td>14.29</td>\n",
       "      <td>707</td>\n",
       "      <td>2760.000000</td>\n",
       "      <td>33623</td>\n",
       "      <td>76.7</td>\n",
       "      <td>0</td>\n",
       "      <td>0</td>\n",
       "      <td>0</td>\n",
       "      <td>0</td>\n",
       "    </tr>\n",
       "    <tr>\n",
       "      <th>2</th>\n",
       "      <td>1</td>\n",
       "      <td>debt_consolidation</td>\n",
       "      <td>0.1357</td>\n",
       "      <td>366.86</td>\n",
       "      <td>10.373491</td>\n",
       "      <td>11.63</td>\n",
       "      <td>682</td>\n",
       "      <td>4710.000000</td>\n",
       "      <td>3511</td>\n",
       "      <td>25.6</td>\n",
       "      <td>1</td>\n",
       "      <td>0</td>\n",
       "      <td>0</td>\n",
       "      <td>0</td>\n",
       "    </tr>\n",
       "    <tr>\n",
       "      <th>3</th>\n",
       "      <td>1</td>\n",
       "      <td>debt_consolidation</td>\n",
       "      <td>0.1008</td>\n",
       "      <td>162.34</td>\n",
       "      <td>11.350407</td>\n",
       "      <td>8.10</td>\n",
       "      <td>712</td>\n",
       "      <td>2699.958333</td>\n",
       "      <td>33667</td>\n",
       "      <td>73.2</td>\n",
       "      <td>1</td>\n",
       "      <td>0</td>\n",
       "      <td>0</td>\n",
       "      <td>0</td>\n",
       "    </tr>\n",
       "    <tr>\n",
       "      <th>4</th>\n",
       "      <td>1</td>\n",
       "      <td>credit_card</td>\n",
       "      <td>0.1426</td>\n",
       "      <td>102.92</td>\n",
       "      <td>11.299732</td>\n",
       "      <td>14.97</td>\n",
       "      <td>667</td>\n",
       "      <td>4066.000000</td>\n",
       "      <td>4740</td>\n",
       "      <td>39.5</td>\n",
       "      <td>0</td>\n",
       "      <td>1</td>\n",
       "      <td>0</td>\n",
       "      <td>0</td>\n",
       "    </tr>\n",
       "  </tbody>\n",
       "</table>\n",
       "</div>"
      ],
      "text/plain": [
       "   credit.policy             purpose  int.rate  installment  log.annual.inc  \\\n",
       "0              1  debt_consolidation    0.1189       829.10       11.350407   \n",
       "1              1         credit_card    0.1071       228.22       11.082143   \n",
       "2              1  debt_consolidation    0.1357       366.86       10.373491   \n",
       "3              1  debt_consolidation    0.1008       162.34       11.350407   \n",
       "4              1         credit_card    0.1426       102.92       11.299732   \n",
       "\n",
       "     dti  fico  days.with.cr.line  revol.bal  revol.util  inq.last.6mths  \\\n",
       "0  19.48   737        5639.958333      28854        52.1               0   \n",
       "1  14.29   707        2760.000000      33623        76.7               0   \n",
       "2  11.63   682        4710.000000       3511        25.6               1   \n",
       "3   8.10   712        2699.958333      33667        73.2               1   \n",
       "4  14.97   667        4066.000000       4740        39.5               0   \n",
       "\n",
       "   delinq.2yrs  pub.rec  not.fully.paid  \n",
       "0            0        0               0  \n",
       "1            0        0               0  \n",
       "2            0        0               0  \n",
       "3            0        0               0  \n",
       "4            1        0               0  "
      ]
     },
     "execution_count": 4,
     "metadata": {},
     "output_type": "execute_result"
    }
   ],
   "source": [
    "# have a glimpse of the data\n",
    "\n",
    "loan_data.head()"
   ]
  },
  {
   "cell_type": "markdown",
   "id": "7f9c5cea",
   "metadata": {},
   "source": [
    " "
   ]
  },
  {
   "cell_type": "code",
   "execution_count": 5,
   "id": "e371c990",
   "metadata": {},
   "outputs": [
    {
     "data": {
      "text/plain": [
       "(9578, 14)"
      ]
     },
     "execution_count": 5,
     "metadata": {},
     "output_type": "execute_result"
    }
   ],
   "source": [
    "#checking the shape of the data\n",
    "\n",
    "loan_data.shape"
   ]
  },
  {
   "cell_type": "markdown",
   "id": "273624f2",
   "metadata": {},
   "source": [
    "> We can see from the above result that the data has `9578` observations and `14` columns. The data is enough to help us perform our analysis. However, we will have to assess the quality of the data and make the necessary cleaning before setting out to achieve our goals."
   ]
  },
  {
   "cell_type": "code",
   "execution_count": 6,
   "id": "f330fef8",
   "metadata": {},
   "outputs": [
    {
     "name": "stdout",
     "output_type": "stream",
     "text": [
      "<class 'pandas.core.frame.DataFrame'>\n",
      "RangeIndex: 9578 entries, 0 to 9577\n",
      "Data columns (total 14 columns):\n",
      " #   Column             Non-Null Count  Dtype  \n",
      "---  ------             --------------  -----  \n",
      " 0   credit.policy      9578 non-null   int64  \n",
      " 1   purpose            9578 non-null   object \n",
      " 2   int.rate           9578 non-null   float64\n",
      " 3   installment        9578 non-null   float64\n",
      " 4   log.annual.inc     9578 non-null   float64\n",
      " 5   dti                9578 non-null   float64\n",
      " 6   fico               9578 non-null   int64  \n",
      " 7   days.with.cr.line  9578 non-null   float64\n",
      " 8   revol.bal          9578 non-null   int64  \n",
      " 9   revol.util         9578 non-null   float64\n",
      " 10  inq.last.6mths     9578 non-null   int64  \n",
      " 11  delinq.2yrs        9578 non-null   int64  \n",
      " 12  pub.rec            9578 non-null   int64  \n",
      " 13  not.fully.paid     9578 non-null   int64  \n",
      "dtypes: float64(6), int64(7), object(1)\n",
      "memory usage: 1.0+ MB\n"
     ]
    }
   ],
   "source": [
    "# checkng data info\n",
    "\n",
    "loan_data.info()"
   ]
  },
  {
   "cell_type": "markdown",
   "id": "c19265df",
   "metadata": {},
   "source": [
    " "
   ]
  },
  {
   "cell_type": "code",
   "execution_count": 7,
   "id": "ed997081",
   "metadata": {},
   "outputs": [
    {
     "data": {
      "text/plain": [
       "array(['debt_consolidation', 'credit_card', 'all_other',\n",
       "       'home_improvement', 'small_business', 'major_purchase',\n",
       "       'educational'], dtype=object)"
      ]
     },
     "execution_count": 7,
     "metadata": {},
     "output_type": "execute_result"
    }
   ],
   "source": [
    "# finding unique values for the purpose column\n",
    "\n",
    "loan_data['purpose'].unique()"
   ]
  },
  {
   "cell_type": "markdown",
   "id": "760e89ed",
   "metadata": {},
   "source": []
  },
  {
   "cell_type": "code",
   "execution_count": 8,
   "id": "b1bd6263",
   "metadata": {},
   "outputs": [
    {
     "data": {
      "text/plain": [
       "0"
      ]
     },
     "execution_count": 8,
     "metadata": {},
     "output_type": "execute_result"
    }
   ],
   "source": [
    "# checking for duplicate values\n",
    "\n",
    "loan_data.duplicated().sum()"
   ]
  },
  {
   "cell_type": "markdown",
   "id": "de6bd2e8",
   "metadata": {},
   "source": [
    " "
   ]
  },
  {
   "cell_type": "code",
   "execution_count": 9,
   "id": "af56dc2c",
   "metadata": {},
   "outputs": [
    {
     "data": {
      "text/html": [
       "<div>\n",
       "<style scoped>\n",
       "    .dataframe tbody tr th:only-of-type {\n",
       "        vertical-align: middle;\n",
       "    }\n",
       "\n",
       "    .dataframe tbody tr th {\n",
       "        vertical-align: top;\n",
       "    }\n",
       "\n",
       "    .dataframe thead th {\n",
       "        text-align: right;\n",
       "    }\n",
       "</style>\n",
       "<table border=\"1\" class=\"dataframe\">\n",
       "  <thead>\n",
       "    <tr style=\"text-align: right;\">\n",
       "      <th></th>\n",
       "      <th>credit.policy</th>\n",
       "      <th>int.rate</th>\n",
       "      <th>installment</th>\n",
       "      <th>log.annual.inc</th>\n",
       "      <th>dti</th>\n",
       "      <th>fico</th>\n",
       "      <th>days.with.cr.line</th>\n",
       "      <th>revol.bal</th>\n",
       "      <th>revol.util</th>\n",
       "      <th>inq.last.6mths</th>\n",
       "      <th>delinq.2yrs</th>\n",
       "      <th>pub.rec</th>\n",
       "      <th>not.fully.paid</th>\n",
       "    </tr>\n",
       "  </thead>\n",
       "  <tbody>\n",
       "    <tr>\n",
       "      <th>count</th>\n",
       "      <td>9578.000000</td>\n",
       "      <td>9578.000000</td>\n",
       "      <td>9578.000000</td>\n",
       "      <td>9578.000000</td>\n",
       "      <td>9578.000000</td>\n",
       "      <td>9578.000000</td>\n",
       "      <td>9578.000000</td>\n",
       "      <td>9.578000e+03</td>\n",
       "      <td>9578.000000</td>\n",
       "      <td>9578.000000</td>\n",
       "      <td>9578.000000</td>\n",
       "      <td>9578.000000</td>\n",
       "      <td>9578.000000</td>\n",
       "    </tr>\n",
       "    <tr>\n",
       "      <th>mean</th>\n",
       "      <td>0.804970</td>\n",
       "      <td>0.122640</td>\n",
       "      <td>319.089413</td>\n",
       "      <td>10.932117</td>\n",
       "      <td>12.606679</td>\n",
       "      <td>710.846314</td>\n",
       "      <td>4560.767197</td>\n",
       "      <td>1.691396e+04</td>\n",
       "      <td>46.799236</td>\n",
       "      <td>1.577469</td>\n",
       "      <td>0.163708</td>\n",
       "      <td>0.062122</td>\n",
       "      <td>0.160054</td>\n",
       "    </tr>\n",
       "    <tr>\n",
       "      <th>std</th>\n",
       "      <td>0.396245</td>\n",
       "      <td>0.026847</td>\n",
       "      <td>207.071301</td>\n",
       "      <td>0.614813</td>\n",
       "      <td>6.883970</td>\n",
       "      <td>37.970537</td>\n",
       "      <td>2496.930377</td>\n",
       "      <td>3.375619e+04</td>\n",
       "      <td>29.014417</td>\n",
       "      <td>2.200245</td>\n",
       "      <td>0.546215</td>\n",
       "      <td>0.262126</td>\n",
       "      <td>0.366676</td>\n",
       "    </tr>\n",
       "    <tr>\n",
       "      <th>min</th>\n",
       "      <td>0.000000</td>\n",
       "      <td>0.060000</td>\n",
       "      <td>15.670000</td>\n",
       "      <td>7.547502</td>\n",
       "      <td>0.000000</td>\n",
       "      <td>612.000000</td>\n",
       "      <td>178.958333</td>\n",
       "      <td>0.000000e+00</td>\n",
       "      <td>0.000000</td>\n",
       "      <td>0.000000</td>\n",
       "      <td>0.000000</td>\n",
       "      <td>0.000000</td>\n",
       "      <td>0.000000</td>\n",
       "    </tr>\n",
       "    <tr>\n",
       "      <th>25%</th>\n",
       "      <td>1.000000</td>\n",
       "      <td>0.103900</td>\n",
       "      <td>163.770000</td>\n",
       "      <td>10.558414</td>\n",
       "      <td>7.212500</td>\n",
       "      <td>682.000000</td>\n",
       "      <td>2820.000000</td>\n",
       "      <td>3.187000e+03</td>\n",
       "      <td>22.600000</td>\n",
       "      <td>0.000000</td>\n",
       "      <td>0.000000</td>\n",
       "      <td>0.000000</td>\n",
       "      <td>0.000000</td>\n",
       "    </tr>\n",
       "    <tr>\n",
       "      <th>50%</th>\n",
       "      <td>1.000000</td>\n",
       "      <td>0.122100</td>\n",
       "      <td>268.950000</td>\n",
       "      <td>10.928884</td>\n",
       "      <td>12.665000</td>\n",
       "      <td>707.000000</td>\n",
       "      <td>4139.958333</td>\n",
       "      <td>8.596000e+03</td>\n",
       "      <td>46.300000</td>\n",
       "      <td>1.000000</td>\n",
       "      <td>0.000000</td>\n",
       "      <td>0.000000</td>\n",
       "      <td>0.000000</td>\n",
       "    </tr>\n",
       "    <tr>\n",
       "      <th>75%</th>\n",
       "      <td>1.000000</td>\n",
       "      <td>0.140700</td>\n",
       "      <td>432.762500</td>\n",
       "      <td>11.291293</td>\n",
       "      <td>17.950000</td>\n",
       "      <td>737.000000</td>\n",
       "      <td>5730.000000</td>\n",
       "      <td>1.824950e+04</td>\n",
       "      <td>70.900000</td>\n",
       "      <td>2.000000</td>\n",
       "      <td>0.000000</td>\n",
       "      <td>0.000000</td>\n",
       "      <td>0.000000</td>\n",
       "    </tr>\n",
       "    <tr>\n",
       "      <th>max</th>\n",
       "      <td>1.000000</td>\n",
       "      <td>0.216400</td>\n",
       "      <td>940.140000</td>\n",
       "      <td>14.528354</td>\n",
       "      <td>29.960000</td>\n",
       "      <td>827.000000</td>\n",
       "      <td>17639.958330</td>\n",
       "      <td>1.207359e+06</td>\n",
       "      <td>119.000000</td>\n",
       "      <td>33.000000</td>\n",
       "      <td>13.000000</td>\n",
       "      <td>5.000000</td>\n",
       "      <td>1.000000</td>\n",
       "    </tr>\n",
       "  </tbody>\n",
       "</table>\n",
       "</div>"
      ],
      "text/plain": [
       "       credit.policy     int.rate  installment  log.annual.inc          dti  \\\n",
       "count    9578.000000  9578.000000  9578.000000     9578.000000  9578.000000   \n",
       "mean        0.804970     0.122640   319.089413       10.932117    12.606679   \n",
       "std         0.396245     0.026847   207.071301        0.614813     6.883970   \n",
       "min         0.000000     0.060000    15.670000        7.547502     0.000000   \n",
       "25%         1.000000     0.103900   163.770000       10.558414     7.212500   \n",
       "50%         1.000000     0.122100   268.950000       10.928884    12.665000   \n",
       "75%         1.000000     0.140700   432.762500       11.291293    17.950000   \n",
       "max         1.000000     0.216400   940.140000       14.528354    29.960000   \n",
       "\n",
       "              fico  days.with.cr.line     revol.bal   revol.util  \\\n",
       "count  9578.000000        9578.000000  9.578000e+03  9578.000000   \n",
       "mean    710.846314        4560.767197  1.691396e+04    46.799236   \n",
       "std      37.970537        2496.930377  3.375619e+04    29.014417   \n",
       "min     612.000000         178.958333  0.000000e+00     0.000000   \n",
       "25%     682.000000        2820.000000  3.187000e+03    22.600000   \n",
       "50%     707.000000        4139.958333  8.596000e+03    46.300000   \n",
       "75%     737.000000        5730.000000  1.824950e+04    70.900000   \n",
       "max     827.000000       17639.958330  1.207359e+06   119.000000   \n",
       "\n",
       "       inq.last.6mths  delinq.2yrs      pub.rec  not.fully.paid  \n",
       "count     9578.000000  9578.000000  9578.000000     9578.000000  \n",
       "mean         1.577469     0.163708     0.062122        0.160054  \n",
       "std          2.200245     0.546215     0.262126        0.366676  \n",
       "min          0.000000     0.000000     0.000000        0.000000  \n",
       "25%          0.000000     0.000000     0.000000        0.000000  \n",
       "50%          1.000000     0.000000     0.000000        0.000000  \n",
       "75%          2.000000     0.000000     0.000000        0.000000  \n",
       "max         33.000000    13.000000     5.000000        1.000000  "
      ]
     },
     "execution_count": 9,
     "metadata": {},
     "output_type": "execute_result"
    }
   ],
   "source": [
    " # viewing summary statistics\n",
    "    \n",
    "loan_data.describe()"
   ]
  },
  {
   "cell_type": "markdown",
   "id": "33640300",
   "metadata": {},
   "source": [
    " "
   ]
  },
  {
   "cell_type": "markdown",
   "id": "9183d9a4",
   "metadata": {},
   "source": [
    "We will proceed by checking if the data contain any missing values. We can easily tell from the results of the info but we want to be extremely sure there are no missing values."
   ]
  },
  {
   "cell_type": "code",
   "execution_count": 10,
   "id": "08a8db60",
   "metadata": {},
   "outputs": [
    {
     "data": {
      "text/plain": [
       "credit.policy        0\n",
       "purpose              0\n",
       "int.rate             0\n",
       "installment          0\n",
       "log.annual.inc       0\n",
       "dti                  0\n",
       "fico                 0\n",
       "days.with.cr.line    0\n",
       "revol.bal            0\n",
       "revol.util           0\n",
       "inq.last.6mths       0\n",
       "delinq.2yrs          0\n",
       "pub.rec              0\n",
       "not.fully.paid       0\n",
       "dtype: int64"
      ]
     },
     "execution_count": 10,
     "metadata": {},
     "output_type": "execute_result"
    }
   ],
   "source": [
    "loan_data.isnull().sum()"
   ]
  },
  {
   "cell_type": "markdown",
   "id": "3b3e470e",
   "metadata": {},
   "source": [
    " "
   ]
  },
  {
   "cell_type": "markdown",
   "id": "e7ae5704",
   "metadata": {},
   "source": [
    " "
   ]
  },
  {
   "cell_type": "markdown",
   "id": "72a2e625",
   "metadata": {},
   "source": [
    " "
   ]
  },
  {
   "cell_type": "markdown",
   "id": "49f88b35",
   "metadata": {},
   "source": [
    "#### Data Quality Summary:"
   ]
  },
  {
   "cell_type": "markdown",
   "id": "7173a200",
   "metadata": {},
   "source": [
    "This data provides no opportunity for data cleaning. Based on the ouputs displayed above, here is the summary of the data quality assesment:<br>\n",
    "\n",
    "* It is clear that the data has no missing values, no duplicates and no inconsistencies.\n",
    "\n",
    "\n",
    "* We will need to convert values of the `log.annual.inc` column to get the actual annual income of the borrowers. We will use the exp() function in doing this.\n",
    "\n",
    "\n",
    "* Finally, we also need to add some new columns to the loan data:\n",
    "    * `fico.category`  (determines how good or poor the borrower's credit score is)\n",
    "    * `int.rate.type` (determines whether the borrower's interest rate is high or low)"
   ]
  },
  {
   "cell_type": "markdown",
   "id": "dc1cbaa9",
   "metadata": {},
   "source": [
    " "
   ]
  },
  {
   "cell_type": "markdown",
   "id": "fa3a14de",
   "metadata": {},
   "source": [
    " "
   ]
  },
  {
   "cell_type": "markdown",
   "id": "0077e9e8",
   "metadata": {},
   "source": [
    "### 2.3 Data Cleaning and Preprocessing<a id='dcp'></a>"
   ]
  },
  {
   "cell_type": "markdown",
   "id": "5b06317f",
   "metadata": {},
   "source": [
    "####  Data Cleaning"
   ]
  },
  {
   "cell_type": "markdown",
   "id": "e8dcf062",
   "metadata": {},
   "source": [
    "<p style=\"text-align:justify\">The preprocessing step (usually an iterative process) is carried out to clean the data based on data quality issues identified. After assessing the quality of the data, we concluded that the data was clean and provides no opportunity for data cleaning. However, we identified which new columns to be added to our data to enable us to perform any suitable analysis.</p>\n",
    "In this task we will perform all computations needed to create our dashboard."
   ]
  },
  {
   "cell_type": "markdown",
   "id": "86ea02e5",
   "metadata": {},
   "source": [
    " "
   ]
  },
  {
   "cell_type": "markdown",
   "id": "426921a9",
   "metadata": {},
   "source": [
    "##### Data Conversion\n",
    "\n",
    "Here, we will convert the log annual income of borrowers to actual annual income."
   ]
  },
  {
   "cell_type": "code",
   "execution_count": 11,
   "id": "61b57834",
   "metadata": {},
   "outputs": [],
   "source": [
    "#using the exp() function to get the actual annual income\n",
    "\n",
    "income = np.exp(loan_data['log.annual.inc'])\n",
    "loan_data['annual.income'] = income  #adds new column to that loan data"
   ]
  },
  {
   "cell_type": "code",
   "execution_count": 12,
   "id": "48b6e6b2",
   "metadata": {},
   "outputs": [
    {
     "data": {
      "text/html": [
       "<div>\n",
       "<style scoped>\n",
       "    .dataframe tbody tr th:only-of-type {\n",
       "        vertical-align: middle;\n",
       "    }\n",
       "\n",
       "    .dataframe tbody tr th {\n",
       "        vertical-align: top;\n",
       "    }\n",
       "\n",
       "    .dataframe thead th {\n",
       "        text-align: right;\n",
       "    }\n",
       "</style>\n",
       "<table border=\"1\" class=\"dataframe\">\n",
       "  <thead>\n",
       "    <tr style=\"text-align: right;\">\n",
       "      <th></th>\n",
       "      <th>credit.policy</th>\n",
       "      <th>purpose</th>\n",
       "      <th>int.rate</th>\n",
       "      <th>installment</th>\n",
       "      <th>log.annual.inc</th>\n",
       "      <th>dti</th>\n",
       "      <th>fico</th>\n",
       "      <th>days.with.cr.line</th>\n",
       "      <th>revol.bal</th>\n",
       "      <th>revol.util</th>\n",
       "      <th>inq.last.6mths</th>\n",
       "      <th>delinq.2yrs</th>\n",
       "      <th>pub.rec</th>\n",
       "      <th>not.fully.paid</th>\n",
       "      <th>annual.income</th>\n",
       "    </tr>\n",
       "  </thead>\n",
       "  <tbody>\n",
       "    <tr>\n",
       "      <th>0</th>\n",
       "      <td>1</td>\n",
       "      <td>debt_consolidation</td>\n",
       "      <td>0.1189</td>\n",
       "      <td>829.10</td>\n",
       "      <td>11.350407</td>\n",
       "      <td>19.48</td>\n",
       "      <td>737</td>\n",
       "      <td>5639.958333</td>\n",
       "      <td>28854</td>\n",
       "      <td>52.1</td>\n",
       "      <td>0</td>\n",
       "      <td>0</td>\n",
       "      <td>0</td>\n",
       "      <td>0</td>\n",
       "      <td>85000.000385</td>\n",
       "    </tr>\n",
       "    <tr>\n",
       "      <th>1</th>\n",
       "      <td>1</td>\n",
       "      <td>credit_card</td>\n",
       "      <td>0.1071</td>\n",
       "      <td>228.22</td>\n",
       "      <td>11.082143</td>\n",
       "      <td>14.29</td>\n",
       "      <td>707</td>\n",
       "      <td>2760.000000</td>\n",
       "      <td>33623</td>\n",
       "      <td>76.7</td>\n",
       "      <td>0</td>\n",
       "      <td>0</td>\n",
       "      <td>0</td>\n",
       "      <td>0</td>\n",
       "      <td>65000.000073</td>\n",
       "    </tr>\n",
       "    <tr>\n",
       "      <th>2</th>\n",
       "      <td>1</td>\n",
       "      <td>debt_consolidation</td>\n",
       "      <td>0.1357</td>\n",
       "      <td>366.86</td>\n",
       "      <td>10.373491</td>\n",
       "      <td>11.63</td>\n",
       "      <td>682</td>\n",
       "      <td>4710.000000</td>\n",
       "      <td>3511</td>\n",
       "      <td>25.6</td>\n",
       "      <td>1</td>\n",
       "      <td>0</td>\n",
       "      <td>0</td>\n",
       "      <td>0</td>\n",
       "      <td>31999.999943</td>\n",
       "    </tr>\n",
       "    <tr>\n",
       "      <th>3</th>\n",
       "      <td>1</td>\n",
       "      <td>debt_consolidation</td>\n",
       "      <td>0.1008</td>\n",
       "      <td>162.34</td>\n",
       "      <td>11.350407</td>\n",
       "      <td>8.10</td>\n",
       "      <td>712</td>\n",
       "      <td>2699.958333</td>\n",
       "      <td>33667</td>\n",
       "      <td>73.2</td>\n",
       "      <td>1</td>\n",
       "      <td>0</td>\n",
       "      <td>0</td>\n",
       "      <td>0</td>\n",
       "      <td>85000.000385</td>\n",
       "    </tr>\n",
       "    <tr>\n",
       "      <th>4</th>\n",
       "      <td>1</td>\n",
       "      <td>credit_card</td>\n",
       "      <td>0.1426</td>\n",
       "      <td>102.92</td>\n",
       "      <td>11.299732</td>\n",
       "      <td>14.97</td>\n",
       "      <td>667</td>\n",
       "      <td>4066.000000</td>\n",
       "      <td>4740</td>\n",
       "      <td>39.5</td>\n",
       "      <td>0</td>\n",
       "      <td>1</td>\n",
       "      <td>0</td>\n",
       "      <td>0</td>\n",
       "      <td>80799.999636</td>\n",
       "    </tr>\n",
       "  </tbody>\n",
       "</table>\n",
       "</div>"
      ],
      "text/plain": [
       "   credit.policy             purpose  int.rate  installment  log.annual.inc  \\\n",
       "0              1  debt_consolidation    0.1189       829.10       11.350407   \n",
       "1              1         credit_card    0.1071       228.22       11.082143   \n",
       "2              1  debt_consolidation    0.1357       366.86       10.373491   \n",
       "3              1  debt_consolidation    0.1008       162.34       11.350407   \n",
       "4              1         credit_card    0.1426       102.92       11.299732   \n",
       "\n",
       "     dti  fico  days.with.cr.line  revol.bal  revol.util  inq.last.6mths  \\\n",
       "0  19.48   737        5639.958333      28854        52.1               0   \n",
       "1  14.29   707        2760.000000      33623        76.7               0   \n",
       "2  11.63   682        4710.000000       3511        25.6               1   \n",
       "3   8.10   712        2699.958333      33667        73.2               1   \n",
       "4  14.97   667        4066.000000       4740        39.5               0   \n",
       "\n",
       "   delinq.2yrs  pub.rec  not.fully.paid  annual.income  \n",
       "0            0        0               0   85000.000385  \n",
       "1            0        0               0   65000.000073  \n",
       "2            0        0               0   31999.999943  \n",
       "3            0        0               0   85000.000385  \n",
       "4            1        0               0   80799.999636  "
      ]
     },
     "execution_count": 12,
     "metadata": {},
     "output_type": "execute_result"
    }
   ],
   "source": [
    "#inspecting the updated data\n",
    "loan_data.head()"
   ]
  },
  {
   "cell_type": "markdown",
   "id": "4776bb1e",
   "metadata": {},
   "source": [
    "  "
   ]
  },
  {
   "cell_type": "markdown",
   "id": "3758e561",
   "metadata": {},
   "source": [
    "##### Grouping Values by Conditions"
   ]
  },
  {
   "cell_type": "markdown",
   "id": "2220820d",
   "metadata": {},
   "source": [
    "###### **Categorizing FICO values**"
   ]
  },
  {
   "cell_type": "code",
   "execution_count": 13,
   "id": "cefb4968",
   "metadata": {},
   "outputs": [],
   "source": [
    "#group fico values into various categories\n",
    "\n",
    "length = len(loan_data)\n",
    "ficocat = []\n",
    "for i in range(0,length):\n",
    "    value = loan_data['fico'][i]\n",
    "    try:\n",
    "        if value >= 300 and value < 400:\n",
    "            cat = 'Very Poor'\n",
    "        elif value >= 400 and value < 600:\n",
    "            cat = 'Poor'\n",
    "        elif value >= 601 and value < 660:\n",
    "            cat = 'Fair'\n",
    "        elif value >= 660 and value < 700:\n",
    "            cat = 'Good'\n",
    "        elif value >= 700:\n",
    "            cat = 'Excellent'\n",
    "        else:\n",
    "            cat = 'Unknown'\n",
    "    except:\n",
    "        cat = 'Error - Unknown'\n",
    "    ficocat.append(cat)\n",
    "    \n",
    "ficocat = pd.Series(ficocat)"
   ]
  },
  {
   "cell_type": "code",
   "execution_count": 14,
   "id": "00e569da",
   "metadata": {},
   "outputs": [],
   "source": [
    "#adding new column to loan data\n",
    "\n",
    "loan_data['fico.category'] = ficocat"
   ]
  },
  {
   "cell_type": "code",
   "execution_count": 15,
   "id": "818e32fa",
   "metadata": {},
   "outputs": [
    {
     "data": {
      "text/html": [
       "<div>\n",
       "<style scoped>\n",
       "    .dataframe tbody tr th:only-of-type {\n",
       "        vertical-align: middle;\n",
       "    }\n",
       "\n",
       "    .dataframe tbody tr th {\n",
       "        vertical-align: top;\n",
       "    }\n",
       "\n",
       "    .dataframe thead th {\n",
       "        text-align: right;\n",
       "    }\n",
       "</style>\n",
       "<table border=\"1\" class=\"dataframe\">\n",
       "  <thead>\n",
       "    <tr style=\"text-align: right;\">\n",
       "      <th></th>\n",
       "      <th>credit.policy</th>\n",
       "      <th>purpose</th>\n",
       "      <th>int.rate</th>\n",
       "      <th>installment</th>\n",
       "      <th>log.annual.inc</th>\n",
       "      <th>dti</th>\n",
       "      <th>fico</th>\n",
       "      <th>days.with.cr.line</th>\n",
       "      <th>revol.bal</th>\n",
       "      <th>revol.util</th>\n",
       "      <th>inq.last.6mths</th>\n",
       "      <th>delinq.2yrs</th>\n",
       "      <th>pub.rec</th>\n",
       "      <th>not.fully.paid</th>\n",
       "      <th>annual.income</th>\n",
       "      <th>fico.category</th>\n",
       "    </tr>\n",
       "  </thead>\n",
       "  <tbody>\n",
       "    <tr>\n",
       "      <th>0</th>\n",
       "      <td>1</td>\n",
       "      <td>debt_consolidation</td>\n",
       "      <td>0.1189</td>\n",
       "      <td>829.10</td>\n",
       "      <td>11.350407</td>\n",
       "      <td>19.48</td>\n",
       "      <td>737</td>\n",
       "      <td>5639.958333</td>\n",
       "      <td>28854</td>\n",
       "      <td>52.1</td>\n",
       "      <td>0</td>\n",
       "      <td>0</td>\n",
       "      <td>0</td>\n",
       "      <td>0</td>\n",
       "      <td>85000.000385</td>\n",
       "      <td>Excellent</td>\n",
       "    </tr>\n",
       "    <tr>\n",
       "      <th>1</th>\n",
       "      <td>1</td>\n",
       "      <td>credit_card</td>\n",
       "      <td>0.1071</td>\n",
       "      <td>228.22</td>\n",
       "      <td>11.082143</td>\n",
       "      <td>14.29</td>\n",
       "      <td>707</td>\n",
       "      <td>2760.000000</td>\n",
       "      <td>33623</td>\n",
       "      <td>76.7</td>\n",
       "      <td>0</td>\n",
       "      <td>0</td>\n",
       "      <td>0</td>\n",
       "      <td>0</td>\n",
       "      <td>65000.000073</td>\n",
       "      <td>Excellent</td>\n",
       "    </tr>\n",
       "    <tr>\n",
       "      <th>2</th>\n",
       "      <td>1</td>\n",
       "      <td>debt_consolidation</td>\n",
       "      <td>0.1357</td>\n",
       "      <td>366.86</td>\n",
       "      <td>10.373491</td>\n",
       "      <td>11.63</td>\n",
       "      <td>682</td>\n",
       "      <td>4710.000000</td>\n",
       "      <td>3511</td>\n",
       "      <td>25.6</td>\n",
       "      <td>1</td>\n",
       "      <td>0</td>\n",
       "      <td>0</td>\n",
       "      <td>0</td>\n",
       "      <td>31999.999943</td>\n",
       "      <td>Good</td>\n",
       "    </tr>\n",
       "    <tr>\n",
       "      <th>3</th>\n",
       "      <td>1</td>\n",
       "      <td>debt_consolidation</td>\n",
       "      <td>0.1008</td>\n",
       "      <td>162.34</td>\n",
       "      <td>11.350407</td>\n",
       "      <td>8.10</td>\n",
       "      <td>712</td>\n",
       "      <td>2699.958333</td>\n",
       "      <td>33667</td>\n",
       "      <td>73.2</td>\n",
       "      <td>1</td>\n",
       "      <td>0</td>\n",
       "      <td>0</td>\n",
       "      <td>0</td>\n",
       "      <td>85000.000385</td>\n",
       "      <td>Excellent</td>\n",
       "    </tr>\n",
       "    <tr>\n",
       "      <th>4</th>\n",
       "      <td>1</td>\n",
       "      <td>credit_card</td>\n",
       "      <td>0.1426</td>\n",
       "      <td>102.92</td>\n",
       "      <td>11.299732</td>\n",
       "      <td>14.97</td>\n",
       "      <td>667</td>\n",
       "      <td>4066.000000</td>\n",
       "      <td>4740</td>\n",
       "      <td>39.5</td>\n",
       "      <td>0</td>\n",
       "      <td>1</td>\n",
       "      <td>0</td>\n",
       "      <td>0</td>\n",
       "      <td>80799.999636</td>\n",
       "      <td>Good</td>\n",
       "    </tr>\n",
       "  </tbody>\n",
       "</table>\n",
       "</div>"
      ],
      "text/plain": [
       "   credit.policy             purpose  int.rate  installment  log.annual.inc  \\\n",
       "0              1  debt_consolidation    0.1189       829.10       11.350407   \n",
       "1              1         credit_card    0.1071       228.22       11.082143   \n",
       "2              1  debt_consolidation    0.1357       366.86       10.373491   \n",
       "3              1  debt_consolidation    0.1008       162.34       11.350407   \n",
       "4              1         credit_card    0.1426       102.92       11.299732   \n",
       "\n",
       "     dti  fico  days.with.cr.line  revol.bal  revol.util  inq.last.6mths  \\\n",
       "0  19.48   737        5639.958333      28854        52.1               0   \n",
       "1  14.29   707        2760.000000      33623        76.7               0   \n",
       "2  11.63   682        4710.000000       3511        25.6               1   \n",
       "3   8.10   712        2699.958333      33667        73.2               1   \n",
       "4  14.97   667        4066.000000       4740        39.5               0   \n",
       "\n",
       "   delinq.2yrs  pub.rec  not.fully.paid  annual.income fico.category  \n",
       "0            0        0               0   85000.000385     Excellent  \n",
       "1            0        0               0   65000.000073     Excellent  \n",
       "2            0        0               0   31999.999943          Good  \n",
       "3            0        0               0   85000.000385     Excellent  \n",
       "4            1        0               0   80799.999636          Good  "
      ]
     },
     "execution_count": 15,
     "metadata": {},
     "output_type": "execute_result"
    }
   ],
   "source": [
    "#inspecting updated data\n",
    "\n",
    "loan_data.head()"
   ]
  },
  {
   "cell_type": "markdown",
   "id": "7e041cda",
   "metadata": {},
   "source": []
  },
  {
   "cell_type": "markdown",
   "id": "05961020",
   "metadata": {},
   "source": [
    "- Now, we will create additional column (`int.rate.type`) to tell which borrower's interest rate is considered high or low."
   ]
  },
  {
   "cell_type": "code",
   "execution_count": 16,
   "id": "7f2602c9",
   "metadata": {},
   "outputs": [],
   "source": [
    "#creating interest rate types\n",
    "\n",
    "loan_data.loc[loan_data['int.rate'] > 0.12, 'int.rate.type'] = 'High'\n",
    "loan_data.loc[loan_data['int.rate'] <= 0.12, 'int.rate.type'] = 'Low'"
   ]
  },
  {
   "cell_type": "code",
   "execution_count": 17,
   "id": "c87f1a61",
   "metadata": {},
   "outputs": [
    {
     "data": {
      "text/html": [
       "<div>\n",
       "<style scoped>\n",
       "    .dataframe tbody tr th:only-of-type {\n",
       "        vertical-align: middle;\n",
       "    }\n",
       "\n",
       "    .dataframe tbody tr th {\n",
       "        vertical-align: top;\n",
       "    }\n",
       "\n",
       "    .dataframe thead th {\n",
       "        text-align: right;\n",
       "    }\n",
       "</style>\n",
       "<table border=\"1\" class=\"dataframe\">\n",
       "  <thead>\n",
       "    <tr style=\"text-align: right;\">\n",
       "      <th></th>\n",
       "      <th>credit.policy</th>\n",
       "      <th>purpose</th>\n",
       "      <th>int.rate</th>\n",
       "      <th>installment</th>\n",
       "      <th>log.annual.inc</th>\n",
       "      <th>dti</th>\n",
       "      <th>fico</th>\n",
       "      <th>days.with.cr.line</th>\n",
       "      <th>revol.bal</th>\n",
       "      <th>revol.util</th>\n",
       "      <th>inq.last.6mths</th>\n",
       "      <th>delinq.2yrs</th>\n",
       "      <th>pub.rec</th>\n",
       "      <th>not.fully.paid</th>\n",
       "      <th>annual.income</th>\n",
       "      <th>fico.category</th>\n",
       "      <th>int.rate.type</th>\n",
       "    </tr>\n",
       "  </thead>\n",
       "  <tbody>\n",
       "    <tr>\n",
       "      <th>0</th>\n",
       "      <td>1</td>\n",
       "      <td>debt_consolidation</td>\n",
       "      <td>0.1189</td>\n",
       "      <td>829.10</td>\n",
       "      <td>11.350407</td>\n",
       "      <td>19.48</td>\n",
       "      <td>737</td>\n",
       "      <td>5639.958333</td>\n",
       "      <td>28854</td>\n",
       "      <td>52.1</td>\n",
       "      <td>0</td>\n",
       "      <td>0</td>\n",
       "      <td>0</td>\n",
       "      <td>0</td>\n",
       "      <td>85000.000385</td>\n",
       "      <td>Excellent</td>\n",
       "      <td>Low</td>\n",
       "    </tr>\n",
       "    <tr>\n",
       "      <th>1</th>\n",
       "      <td>1</td>\n",
       "      <td>credit_card</td>\n",
       "      <td>0.1071</td>\n",
       "      <td>228.22</td>\n",
       "      <td>11.082143</td>\n",
       "      <td>14.29</td>\n",
       "      <td>707</td>\n",
       "      <td>2760.000000</td>\n",
       "      <td>33623</td>\n",
       "      <td>76.7</td>\n",
       "      <td>0</td>\n",
       "      <td>0</td>\n",
       "      <td>0</td>\n",
       "      <td>0</td>\n",
       "      <td>65000.000073</td>\n",
       "      <td>Excellent</td>\n",
       "      <td>Low</td>\n",
       "    </tr>\n",
       "    <tr>\n",
       "      <th>2</th>\n",
       "      <td>1</td>\n",
       "      <td>debt_consolidation</td>\n",
       "      <td>0.1357</td>\n",
       "      <td>366.86</td>\n",
       "      <td>10.373491</td>\n",
       "      <td>11.63</td>\n",
       "      <td>682</td>\n",
       "      <td>4710.000000</td>\n",
       "      <td>3511</td>\n",
       "      <td>25.6</td>\n",
       "      <td>1</td>\n",
       "      <td>0</td>\n",
       "      <td>0</td>\n",
       "      <td>0</td>\n",
       "      <td>31999.999943</td>\n",
       "      <td>Good</td>\n",
       "      <td>High</td>\n",
       "    </tr>\n",
       "    <tr>\n",
       "      <th>3</th>\n",
       "      <td>1</td>\n",
       "      <td>debt_consolidation</td>\n",
       "      <td>0.1008</td>\n",
       "      <td>162.34</td>\n",
       "      <td>11.350407</td>\n",
       "      <td>8.10</td>\n",
       "      <td>712</td>\n",
       "      <td>2699.958333</td>\n",
       "      <td>33667</td>\n",
       "      <td>73.2</td>\n",
       "      <td>1</td>\n",
       "      <td>0</td>\n",
       "      <td>0</td>\n",
       "      <td>0</td>\n",
       "      <td>85000.000385</td>\n",
       "      <td>Excellent</td>\n",
       "      <td>Low</td>\n",
       "    </tr>\n",
       "    <tr>\n",
       "      <th>4</th>\n",
       "      <td>1</td>\n",
       "      <td>credit_card</td>\n",
       "      <td>0.1426</td>\n",
       "      <td>102.92</td>\n",
       "      <td>11.299732</td>\n",
       "      <td>14.97</td>\n",
       "      <td>667</td>\n",
       "      <td>4066.000000</td>\n",
       "      <td>4740</td>\n",
       "      <td>39.5</td>\n",
       "      <td>0</td>\n",
       "      <td>1</td>\n",
       "      <td>0</td>\n",
       "      <td>0</td>\n",
       "      <td>80799.999636</td>\n",
       "      <td>Good</td>\n",
       "      <td>High</td>\n",
       "    </tr>\n",
       "  </tbody>\n",
       "</table>\n",
       "</div>"
      ],
      "text/plain": [
       "   credit.policy             purpose  int.rate  installment  log.annual.inc  \\\n",
       "0              1  debt_consolidation    0.1189       829.10       11.350407   \n",
       "1              1         credit_card    0.1071       228.22       11.082143   \n",
       "2              1  debt_consolidation    0.1357       366.86       10.373491   \n",
       "3              1  debt_consolidation    0.1008       162.34       11.350407   \n",
       "4              1         credit_card    0.1426       102.92       11.299732   \n",
       "\n",
       "     dti  fico  days.with.cr.line  revol.bal  revol.util  inq.last.6mths  \\\n",
       "0  19.48   737        5639.958333      28854        52.1               0   \n",
       "1  14.29   707        2760.000000      33623        76.7               0   \n",
       "2  11.63   682        4710.000000       3511        25.6               1   \n",
       "3   8.10   712        2699.958333      33667        73.2               1   \n",
       "4  14.97   667        4066.000000       4740        39.5               0   \n",
       "\n",
       "   delinq.2yrs  pub.rec  not.fully.paid  annual.income fico.category  \\\n",
       "0            0        0               0   85000.000385     Excellent   \n",
       "1            0        0               0   65000.000073     Excellent   \n",
       "2            0        0               0   31999.999943          Good   \n",
       "3            0        0               0   85000.000385     Excellent   \n",
       "4            1        0               0   80799.999636          Good   \n",
       "\n",
       "  int.rate.type  \n",
       "0           Low  \n",
       "1           Low  \n",
       "2          High  \n",
       "3           Low  \n",
       "4          High  "
      ]
     },
     "execution_count": 17,
     "metadata": {},
     "output_type": "execute_result"
    }
   ],
   "source": [
    "#inspecting updated data\n",
    "\n",
    "loan_data.head()"
   ]
  },
  {
   "cell_type": "markdown",
   "id": "f795c446",
   "metadata": {},
   "source": [
    " "
   ]
  },
  {
   "cell_type": "markdown",
   "id": "fc88d2c2",
   "metadata": {},
   "source": [
    " "
   ]
  },
  {
   "cell_type": "markdown",
   "id": "d6ac5519",
   "metadata": {},
   "source": [
    "## 3. Data Visualisation<a id='dv'></a>\n",
    "\n",
    "[Move Up](#mu)\n",
    "\n",
    "As stated earlier, we are going to create a to report of borrowers who may have issues paying back the loan in a Tableau Dashboard. We will export the processed data and load unto Tableau to build the dashboard."
   ]
  },
  {
   "cell_type": "code",
   "execution_count": 18,
   "id": "837ec008",
   "metadata": {},
   "outputs": [],
   "source": [
    "#export data to csv\n",
    "\n",
    "loan_data.to_csv('loan_Cleaned.csv', index=True)"
   ]
  },
  {
   "cell_type": "markdown",
   "id": "39c8bb63",
   "metadata": {},
   "source": []
  },
  {
   "cell_type": "markdown",
   "id": "cb574674",
   "metadata": {},
   "source": []
  },
  {
   "cell_type": "markdown",
   "id": "deb0a93b",
   "metadata": {},
   "source": [
    "## 4. References<a id='r'></a>\n",
    "\n",
    "[Move Up](#mu)"
   ]
  },
  {
   "cell_type": "markdown",
   "id": "d3d9e94d",
   "metadata": {},
   "source": [
    "* [Date File: loan_data_json.json](https://finch-groundhog-9245.squarespace.com/s/loan_data_json.json)\n",
    "* [Blue Bank Logo](https://finch-groundhog-9245.squarespace.com/s/Blue-Bank-Logo.png)"
   ]
  },
  {
   "cell_type": "markdown",
   "id": "c6e2a163",
   "metadata": {},
   "source": [
    "Link to dashboard on Tableau: [Blue Bank Loan Analysis Dashboard](https://public.tableau.com/views/BlueBankLoanDashboard_16908686164080/Dashboard1?:language=en-US&publish=yes&:display_count=n&:origin=viz_share_link)"
   ]
  }
 ],
 "metadata": {
  "kernelspec": {
   "display_name": "Python 3 (ipykernel)",
   "language": "python",
   "name": "python3"
  },
  "language_info": {
   "codemirror_mode": {
    "name": "ipython",
    "version": 3
   },
   "file_extension": ".py",
   "mimetype": "text/x-python",
   "name": "python",
   "nbconvert_exporter": "python",
   "pygments_lexer": "ipython3",
   "version": "3.9.7"
  }
 },
 "nbformat": 4,
 "nbformat_minor": 5
}
